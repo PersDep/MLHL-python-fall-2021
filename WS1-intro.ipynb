{
  "nbformat": 4,
  "nbformat_minor": 0,
  "metadata": {
    "kernelspec": {
      "display_name": "Python 3",
      "language": "python",
      "name": "python3"
    },
    "language_info": {
      "codemirror_mode": {
        "name": "ipython",
        "version": 3
      },
      "file_extension": ".py",
      "mimetype": "text/x-python",
      "name": "python",
      "nbconvert_exporter": "python",
      "pygments_lexer": "ipython3",
      "version": "3.8.5"
    },
    "toc": {
      "base_numbering": 1,
      "nav_menu": {},
      "number_sections": true,
      "sideBar": true,
      "skip_h1_title": false,
      "title_cell": "Table of Contents",
      "title_sidebar": "Contents",
      "toc_cell": false,
      "toc_position": {},
      "toc_section_display": true,
      "toc_window_display": true
    },
    "varInspector": {
      "cols": {
        "lenName": 16,
        "lenType": 16,
        "lenVar": 40
      },
      "kernels_config": {
        "python": {
          "delete_cmd_postfix": "",
          "delete_cmd_prefix": "del ",
          "library": "var_list.py",
          "varRefreshCmd": "print(var_dic_list())"
        },
        "r": {
          "delete_cmd_postfix": ") ",
          "delete_cmd_prefix": "rm(",
          "library": "var_list.r",
          "varRefreshCmd": "cat(var_dic_list()) "
        }
      },
      "types_to_exclude": [
        "module",
        "function",
        "builtin_function_or_method",
        "instance",
        "_Feature"
      ],
      "window_display": false
    },
    "colab": {
      "name": "WS1-intro.ipynb",
      "provenance": []
    }
  },
  "cells": [
    {
      "cell_type": "markdown",
      "metadata": {
        "id": "QFxCk-kqTQ-t"
      },
      "source": [
        "## 0. Куда это я попал? \n",
        "\n",
        "__ IPython ((Jupyter Notebooks))__ - это инструмент для интерактивного взаимодействия с исходным кодом Python. Можно писать код, выполнять его и сразу видеть результат. Есть много минусов, включая отсутствие отладки, запутанность состояния, а также ещё более низкий перформанс."
      ]
    },
    {
      "cell_type": "code",
      "metadata": {
        "id": "Y_qapeYtTQ-v"
      },
      "source": [
        "# Пробуем\n"
      ],
      "execution_count": null,
      "outputs": []
    },
    {
      "cell_type": "markdown",
      "metadata": {
        "id": "0Ua0g4Q8TQ-x"
      },
      "source": [
        "### Markdown\n",
        "\n",
        "- [10-минутный урок по синтаксису](https://www.markdowntutorial.com/)\n",
        "- [Короткий гайд по синтаксису](https://guides.github.com/features/mastering-markdown/)"
      ]
    },
    {
      "cell_type": "markdown",
      "metadata": {
        "id": "x1VGbip0TQ-y"
      },
      "source": [
        "## 1. Python как калькулятор\n",
        "\n",
        "Можно складывать, умножать, делить и так далее..."
      ]
    },
    {
      "cell_type": "code",
      "metadata": {
        "id": "9XrZyYe6TQ-0"
      },
      "source": [
        "1000000000000000000000000000000000000000000000000000000000000000 * 1000000000000000000000000000000000000000000000000000000000000000000000000000000000000000000000000"
      ],
      "execution_count": null,
      "outputs": []
    },
    {
      "cell_type": "code",
      "metadata": {
        "id": "itVkm-VJTQ-1"
      },
      "source": [
        "5 ** 3"
      ],
      "execution_count": null,
      "outputs": []
    },
    {
      "cell_type": "code",
      "metadata": {
        "id": "CJ2pqnYCTQ-3"
      },
      "source": [
        "5 / 2"
      ],
      "execution_count": null,
      "outputs": []
    },
    {
      "cell_type": "code",
      "metadata": {
        "id": "GYIwL94HTQ-3"
      },
      "source": [
        "5 // 2 #Человек против машины: раунд 1, угадайте, что получится?"
      ],
      "execution_count": null,
      "outputs": []
    },
    {
      "cell_type": "markdown",
      "metadata": {
        "id": "hRPeGHNlTQ-4"
      },
      "source": [
        "Как обстоят дела с другими операциями? Попробуем извлечь квадратный корень:"
      ]
    },
    {
      "cell_type": "code",
      "metadata": {
        "id": "VzFsptquTQ-5"
      },
      "source": [
        "sqrt(4)"
      ],
      "execution_count": null,
      "outputs": []
    },
    {
      "cell_type": "markdown",
      "metadata": {
        "id": "NetD0ZwtTQ-5"
      },
      "source": [
        "Рантайм выбросил исключение: имя sqrt недоступно нам в по умолчанию. Однако, не всё так плохо: соответствующая функция есть в модуле math. Чтобы ей воспользоваться, нужно импортировать этот модуль. Это можно сделать разными способами."
      ]
    },
    {
      "cell_type": "code",
      "metadata": {
        "id": "1Y4ziPAJTQ-6"
      },
      "source": [
        "import math\n",
        "print(math.sqrt(17))\n",
        "math.sqrt(4)"
      ],
      "execution_count": null,
      "outputs": []
    },
    {
      "cell_type": "code",
      "metadata": {
        "id": "vuTKrLbBTQ-6"
      },
      "source": [
        "print(17 ** 0.5)\n",
        "4 ** 0.5"
      ],
      "execution_count": null,
      "outputs": []
    },
    {
      "cell_type": "markdown",
      "metadata": {
        "id": "DKx64RfGTQ-7"
      },
      "source": [
        "После того, как модуль `math` импортирован, вы можете узнать, какие ещё в нём есть функции. В __IPython Notebook__ для этого достаточно ввести имя модуля, поставить точку и нажать кнопку __«Tab»__. Вот, например, синус:"
      ]
    },
    {
      "cell_type": "code",
      "metadata": {
        "id": "T92j7Tq3TQ-7"
      },
      "source": [
        "print(math.sin(0))\n",
        "math.sin(math.pi / 6)"
      ],
      "execution_count": null,
      "outputs": []
    },
    {
      "cell_type": "markdown",
      "metadata": {
        "id": "nqIGFytlTQ-8"
      },
      "source": [
        "Приведенный синтаксис может оказаться неудобным, если вам часто приходится вызывать какие-то математические функции. Чтобы не писать каждый раз слово «math», можно импортировать из модуля конкретные функции."
      ]
    },
    {
      "cell_type": "code",
      "metadata": {
        "id": "TpXghGyFTQ-8"
      },
      "source": [
        "from math import sqrt\n",
        "sqrt(4)"
      ],
      "execution_count": null,
      "outputs": []
    },
    {
      "cell_type": "markdown",
      "metadata": {
        "id": "zDhezPvMTQ-8"
      },
      "source": [
        "Также можно подгрузить какой-нибудь модуль или пакет, но при этом изменить у него название на более короткое и пользоваться им. Будьте аккуратны с этим!"
      ]
    },
    {
      "cell_type": "code",
      "metadata": {
        "id": "IWdrZEluTQ-9"
      },
      "source": [
        "import math as mh\n",
        "mh.sqrt(4)"
      ],
      "execution_count": null,
      "outputs": []
    },
    {
      "cell_type": "code",
      "metadata": {
        "id": "MnMMGiZ8XcGn"
      },
      "source": [
        "import numpy as pd\n",
        "import pandas as np"
      ],
      "execution_count": null,
      "outputs": []
    },
    {
      "cell_type": "code",
      "metadata": {
        "id": "bl-M8v3VTQ--"
      },
      "source": [
        "x"
      ],
      "execution_count": null,
      "outputs": []
    },
    {
      "cell_type": "code",
      "metadata": {
        "id": "mRWnRK2HTQ--"
      },
      "source": [
        "x = 2\n",
        "x"
      ],
      "execution_count": null,
      "outputs": []
    },
    {
      "cell_type": "code",
      "metadata": {
        "id": "6lNnFweRXuHf"
      },
      "source": [
        "x += 2"
      ],
      "execution_count": null,
      "outputs": []
    },
    {
      "cell_type": "markdown",
      "metadata": {
        "id": "DSZGyx8XTQ-_"
      },
      "source": [
        "## 2. Типы данных\n",
        "\n",
        "Попробуем записать числа по-разному"
      ]
    },
    {
      "cell_type": "markdown",
      "metadata": {
        "id": "R-BoR08xTQ_B"
      },
      "source": [
        "Переопределение операций для разных объектов!"
      ]
    },
    {
      "cell_type": "code",
      "metadata": {
        "id": "9Sjs_RxuTQ_B"
      },
      "source": [
        "a = 'ёж'\n",
        "b = 'ик'\n",
        "a + b"
      ],
      "execution_count": null,
      "outputs": []
    },
    {
      "cell_type": "code",
      "metadata": {
        "id": "a0l7MIhpTQ_C"
      },
      "source": [
        "type(4)"
      ],
      "execution_count": null,
      "outputs": []
    },
    {
      "cell_type": "code",
      "metadata": {
        "id": "M62Wd3RvTQ_C"
      },
      "source": [
        "type('4')"
      ],
      "execution_count": null,
      "outputs": []
    },
    {
      "cell_type": "code",
      "metadata": {
        "id": "UhfL_0xPTQ_C"
      },
      "source": [
        "type(4.0)"
      ],
      "execution_count": null,
      "outputs": []
    },
    {
      "cell_type": "code",
      "metadata": {
        "id": "uZaX8YcxTQ_C"
      },
      "source": [
        "type(True)"
      ],
      "execution_count": null,
      "outputs": []
    },
    {
      "cell_type": "markdown",
      "metadata": {
        "id": "tv7e8uYuTQ_D"
      },
      "source": [
        "- `str` - текстовый\n",
        "- `int` - целочисленный\n",
        "- `float` - число с плавающей запятой (обычное действительное число)\n",
        "- `bool` - булева переменная"
      ]
    },
    {
      "cell_type": "markdown",
      "metadata": {
        "id": "dA1d0i1CTQ_D"
      },
      "source": [
        "Преобразование типов"
      ]
    },
    {
      "cell_type": "code",
      "metadata": {
        "id": "rjjGfdL5TQ_D"
      },
      "source": [
        "x = '42'\n",
        "print(type(x))\n",
        "\n",
        "x = int(x)\n",
        "print(type(x))"
      ],
      "execution_count": null,
      "outputs": []
    },
    {
      "cell_type": "code",
      "metadata": {
        "id": "aJlOUnXWTQ_D"
      },
      "source": [
        "x = 'тест'\n",
        "print(type(x))\n",
        "\n",
        "x = int(x)\n",
        "print(type(x))"
      ],
      "execution_count": null,
      "outputs": []
    },
    {
      "cell_type": "code",
      "metadata": {
        "id": "_-cc2Y5STQ_E"
      },
      "source": [
        "a = '2.3'\n",
        "float(a)"
      ],
      "execution_count": null,
      "outputs": []
    },
    {
      "cell_type": "markdown",
      "metadata": {
        "id": "rwdnUUEfakqd"
      },
      "source": [
        "## 3. Объекты"
      ]
    },
    {
      "cell_type": "code",
      "metadata": {
        "id": "T2risR4ha5G-"
      },
      "source": [
        "object"
      ],
      "execution_count": null,
      "outputs": []
    },
    {
      "cell_type": "code",
      "metadata": {
        "id": "QgOnYCAia6uR"
      },
      "source": [
        "type(object)"
      ],
      "execution_count": null,
      "outputs": []
    },
    {
      "cell_type": "code",
      "metadata": {
        "id": "zzdSqD9Wa8uA"
      },
      "source": [
        "type(type)"
      ],
      "execution_count": null,
      "outputs": []
    },
    {
      "cell_type": "code",
      "metadata": {
        "id": "vf_7CMx8a-E6"
      },
      "source": [
        "type(type(type))"
      ],
      "execution_count": null,
      "outputs": []
    },
    {
      "cell_type": "code",
      "metadata": {
        "id": "5QIbxzaLa_gq"
      },
      "source": [
        "type(type(''))"
      ],
      "execution_count": null,
      "outputs": []
    },
    {
      "cell_type": "code",
      "metadata": {
        "id": "DdvWBAfgbEPF"
      },
      "source": [
        "type(int)"
      ],
      "execution_count": null,
      "outputs": []
    },
    {
      "cell_type": "code",
      "metadata": {
        "id": "xJDbYhmCbFbV"
      },
      "source": [
        "type(int())"
      ],
      "execution_count": null,
      "outputs": []
    },
    {
      "cell_type": "code",
      "metadata": {
        "id": "KTD66sKRbHnl"
      },
      "source": [
        "int()"
      ],
      "execution_count": null,
      "outputs": []
    },
    {
      "cell_type": "code",
      "metadata": {
        "id": "09fgIGnlbRNb"
      },
      "source": [
        "int.__bases__"
      ],
      "execution_count": null,
      "outputs": []
    },
    {
      "cell_type": "code",
      "metadata": {
        "id": "tvfc7RuAbTmY"
      },
      "source": [
        "object.__bases__"
      ],
      "execution_count": null,
      "outputs": []
    },
    {
      "cell_type": "code",
      "metadata": {
        "id": "lM2aicBgblKZ"
      },
      "source": [
        "id(1)"
      ],
      "execution_count": null,
      "outputs": []
    },
    {
      "cell_type": "code",
      "metadata": {
        "id": "ox8SfKKcbmbG"
      },
      "source": [
        "a = 1\n",
        "id(a)"
      ],
      "execution_count": null,
      "outputs": []
    },
    {
      "cell_type": "code",
      "metadata": {
        "id": "VqbmHSkWbs2R"
      },
      "source": [
        "a += 1\n",
        "id(a)"
      ],
      "execution_count": null,
      "outputs": []
    },
    {
      "cell_type": "markdown",
      "metadata": {
        "id": "Ov9rOMFtTQ_E"
      },
      "source": [
        "## 4. Логические операции\n",
        "\n",
        "* Равно (==)\n",
        "* Меньше (<)\n",
        "* Больше (>)\n",
        "* Не равно (!=)\n",
        "\n",
        "Результат логических операций — тип bool (True или False)."
      ]
    },
    {
      "cell_type": "code",
      "metadata": {
        "id": "BOjbUPnaTQ_E"
      },
      "source": [
        "x = 2\n",
        "y = 3"
      ],
      "execution_count": null,
      "outputs": []
    },
    {
      "cell_type": "code",
      "metadata": {
        "id": "mM6TMkW1TQ_E"
      },
      "source": [
        "x != 2"
      ],
      "execution_count": null,
      "outputs": []
    },
    {
      "cell_type": "code",
      "metadata": {
        "id": "2Q5aJDugTQ_F"
      },
      "source": [
        "5 <= 7"
      ],
      "execution_count": null,
      "outputs": []
    },
    {
      "cell_type": "code",
      "metadata": {
        "id": "-BHLvUvUTQ_F"
      },
      "source": [
        "x < y"
      ],
      "execution_count": null,
      "outputs": []
    },
    {
      "cell_type": "markdown",
      "metadata": {
        "id": "vr6gJX_UTQ_F"
      },
      "source": [
        "В Python есть возможность производить двойные сравнения:"
      ]
    },
    {
      "cell_type": "code",
      "metadata": {
        "id": "wlj1TIqgTQ_F"
      },
      "source": [
        "# эквивалентно (1 < 2) and (2 < 3)\n",
        "1 < 2 < 3"
      ],
      "execution_count": null,
      "outputs": []
    },
    {
      "cell_type": "code",
      "metadata": {
        "id": "Z7W_XT6hTQ_F"
      },
      "source": [
        "2 + 2 == 4"
      ],
      "execution_count": null,
      "outputs": []
    },
    {
      "cell_type": "code",
      "metadata": {
        "id": "5p7c8ij1TQ_G"
      },
      "source": [
        "2 + 2 == 5"
      ],
      "execution_count": null,
      "outputs": []
    },
    {
      "cell_type": "code",
      "metadata": {
        "id": "j3nSsF8yTQ_G"
      },
      "source": [
        "x = 5\n",
        "x < 8"
      ],
      "execution_count": null,
      "outputs": []
    },
    {
      "cell_type": "markdown",
      "metadata": {
        "id": "Dd-3r8P9TQ_G"
      },
      "source": [
        "## 5. Вещественные числа и погрешности\n",
        "\n",
        "Вещественные числа в программировании не так просты. Вот, например, посчитаем синус числа $\\pi$:"
      ]
    },
    {
      "cell_type": "code",
      "metadata": {
        "id": "OBACHtO-TQ_G"
      },
      "source": [
        "from math import pi, sin\n",
        "sin(pi)  #думаете, получится 0? Ха-ха!"
      ],
      "execution_count": null,
      "outputs": []
    },
    {
      "cell_type": "markdown",
      "metadata": {
        "id": "k3U4SPDETQ_G"
      },
      "source": [
        "Непонятный ответ? Во-первых, это так называемая [компьютерная форма экспоненциальной записи чисел.](https://ru.wikipedia.org/wiki/Экспоненциальная_запись#.D0.9A.D0.BE.D0.BC.D0.BF.D1.8C.D1.8E.D1.82.D0.B5.D1.80.D0.BD.D1.8B.D0.B9_.D1.81.D0.BF.D0.BE.D1.81.D0.BE.D0.B1_.D1.8D.D0.BA.D1.81.D0.BF.D0.BE.D0.BD.D0.B5.D0.BD.D1.86.D0.B8.D0.B0.D0.BB.D1.8C.D0.BD.D0.BE.D0.B9_.D0.B7.D0.B0.D0.BF.D0.B8.D1.81.D0.B8) Она удобна, если нужно уметь записывать очень большие или очень маленькие числа:`1.2E2` означает `1.2⋅102`, то есть `1200`, а `2.4e-3` — то же самое, что `2.4⋅10−3=00024`. \n",
        "\n",
        "Результат, посчитанный Python для $\\sin \\pi$, имеет порядок `10−16` — это очень маленькое число, близкое к нулю. Почему не «настоящий» ноль? Все вычисления в вещественных числах делаются компьютером с некоторой ограниченной точностью, поэтому зачастую вместо «честных» ответов получаются такие приближенные. К этому надо быть готовым."
      ]
    },
    {
      "cell_type": "code",
      "metadata": {
        "id": "K31XqHzUTQ_G"
      },
      "source": [
        "#Человек против машины: раунд 3, угадайте, что получится?\n",
        "0.4 - 0.3 == 0.1"
      ],
      "execution_count": null,
      "outputs": []
    },
    {
      "cell_type": "code",
      "metadata": {
        "id": "sMyy3Nq8TQ_H"
      },
      "source": [
        "a = 0.4 - 0.3"
      ],
      "execution_count": null,
      "outputs": []
    },
    {
      "cell_type": "code",
      "metadata": {
        "id": "ij3srYLbTQ_H"
      },
      "source": [
        "a"
      ],
      "execution_count": null,
      "outputs": []
    },
    {
      "cell_type": "code",
      "metadata": {
        "id": "Cg8mAv3fTQ_H"
      },
      "source": [
        "a == 0.1"
      ],
      "execution_count": null,
      "outputs": []
    },
    {
      "cell_type": "code",
      "metadata": {
        "id": "SKfZl7r7TQ_I"
      },
      "source": [
        "a - 0.1 < 1e-8"
      ],
      "execution_count": null,
      "outputs": []
    },
    {
      "cell_type": "code",
      "metadata": {
        "id": "oszKlePpTQ_I"
      },
      "source": [
        "0.4 - 0.3"
      ],
      "execution_count": null,
      "outputs": []
    },
    {
      "cell_type": "markdown",
      "metadata": {
        "id": "3lNhbqzUTQ_I"
      },
      "source": [
        "Когда сравниваете вещественные числа будьте осторожнее. "
      ]
    },
    {
      "cell_type": "markdown",
      "metadata": {
        "id": "skXFj_rDTQ_I"
      },
      "source": [
        "## 6. Ввод и вывод\n",
        "\n",
        "Работа в Jupyter редко требует писать код, который сам по себе запрашивает данные с клавиатуры, но для других приложений (и в частности для домашних работ) это может потребоваться. К тому же, написание интерактивных приложений само по себе забавное занятие. Напишем, например, программу, которая здоровается с нами по имени."
      ]
    },
    {
      "cell_type": "code",
      "metadata": {
        "id": "Xb9il_j4TQ_I"
      },
      "source": [
        "name = input(\"Введите ваше имя: \")\n",
        "print(\"Привет,\", name)"
      ],
      "execution_count": null,
      "outputs": []
    },
    {
      "cell_type": "code",
      "metadata": {
        "id": "qNVszAGWTQ_J"
      },
      "source": [
        "print('Hello,', name, ',', 'how', 'are', 'you', sep='**', end='! ')\n",
        "print('bye-bye')"
      ],
      "execution_count": null,
      "outputs": []
    },
    {
      "cell_type": "markdown",
      "metadata": {
        "id": "pHnHc9QcTQ_M"
      },
      "source": [
        "## 7. Коллекции: списки и (строки)"
      ]
    },
    {
      "cell_type": "markdown",
      "metadata": {
        "id": "RF2vHIXgTQ_N"
      },
      "source": [
        "### Строки\n",
        "\n",
        "Строковые константы можно задавать и с помощью одинарных кавычек, и с помощью двойных, и с помощью тройных:"
      ]
    },
    {
      "cell_type": "code",
      "metadata": {
        "id": "cFV-T3PkTQ_N"
      },
      "source": [
        "s1 = 'abc'\n",
        "s2 = \"abc\"\n",
        "s3 = \"\"\"abc\n",
        "aaaaaa\n",
        "aaaaa\n",
        "a\n",
        "aa\n",
        "\"\"\"\n",
        "\n",
        "s1 == s2 == s3"
      ],
      "execution_count": null,
      "outputs": []
    },
    {
      "cell_type": "code",
      "metadata": {
        "id": "N6yhUHhFTQ_N"
      },
      "source": [
        "s3"
      ],
      "execution_count": null,
      "outputs": []
    },
    {
      "cell_type": "code",
      "metadata": {
        "id": "e0rrMxLeTQ_O"
      },
      "source": [
        "a = 'a\\naaaa'"
      ],
      "execution_count": null,
      "outputs": []
    },
    {
      "cell_type": "code",
      "metadata": {
        "id": "UsJC0wKRTQ_O"
      },
      "source": [
        "a[1]"
      ],
      "execution_count": null,
      "outputs": []
    },
    {
      "cell_type": "markdown",
      "metadata": {
        "id": "E44yECM8TQ_O"
      },
      "source": [
        "Операции над строками:\n",
        "\n",
        "* Сложение строк (+) — конкатенация строк\n",
        "* Умножение строки на целое число n (*) — повтороение строки n раз"
      ]
    },
    {
      "cell_type": "code",
      "metadata": {
        "id": "l0aeTXCvTQ_O"
      },
      "source": [
        "\"abc\" + 'def'"
      ],
      "execution_count": null,
      "outputs": []
    },
    {
      "cell_type": "code",
      "metadata": {
        "id": "S8LfG-UQTQ_O"
      },
      "source": [
        "\"abc\" * 3"
      ],
      "execution_count": null,
      "outputs": []
    },
    {
      "cell_type": "markdown",
      "metadata": {
        "id": "JxnDeKcGTQ_O"
      },
      "source": [
        "Функция `len` — получить длину строки:"
      ]
    },
    {
      "cell_type": "code",
      "metadata": {
        "id": "PItdK3IkTQ_P"
      },
      "source": [
        "len(\"abc\")"
      ],
      "execution_count": null,
      "outputs": []
    },
    {
      "cell_type": "code",
      "metadata": {
        "id": "ad_He5qoTQ_P"
      },
      "source": [
        "s1"
      ],
      "execution_count": null,
      "outputs": []
    },
    {
      "cell_type": "markdown",
      "metadata": {
        "id": "SUXyABVVTQ_P"
      },
      "source": [
        "У типа str большое количество встроенных строковых методов:\n",
        "* .find — найти подстроку\n",
        "* .upper — перевести строку в верхний регистр\n",
        "* .lower — перевести строку в нижний регистр\n",
        "* .strip — обрезать по краям поданные символы (по умолчанию пробельные)"
      ]
    },
    {
      "cell_type": "code",
      "metadata": {
        "id": "fqYN8DWxTQ_P"
      },
      "source": [
        "s1.find('b')"
      ],
      "execution_count": null,
      "outputs": []
    },
    {
      "cell_type": "code",
      "metadata": {
        "id": "Cgh8Pxa2TQ_P"
      },
      "source": [
        "s1[-1]"
      ],
      "execution_count": null,
      "outputs": []
    },
    {
      "cell_type": "code",
      "metadata": {
        "id": "JaIENCdJTQ_Q"
      },
      "source": [
        "s1.upper()"
      ],
      "execution_count": null,
      "outputs": []
    },
    {
      "cell_type": "code",
      "metadata": {
        "id": "1pfwI3PyTQ_R"
      },
      "source": [
        "s1.upper().lower()"
      ],
      "execution_count": null,
      "outputs": []
    },
    {
      "cell_type": "code",
      "metadata": {
        "id": "8U4pWhAhTQ_S"
      },
      "source": [
        "\"a   \".strip()"
      ],
      "execution_count": null,
      "outputs": []
    },
    {
      "cell_type": "code",
      "metadata": {
        "id": "5pZKZ0ciTQ_S"
      },
      "source": [
        "z = '      z.      '"
      ],
      "execution_count": null,
      "outputs": []
    },
    {
      "cell_type": "code",
      "metadata": {
        "id": "yU6QnUaXTQ_S"
      },
      "source": [
        "z.strip()"
      ],
      "execution_count": null,
      "outputs": []
    },
    {
      "cell_type": "code",
      "metadata": {
        "id": "8ZQTSIdJTQ_T"
      },
      "source": [
        "z.rstrip()"
      ],
      "execution_count": null,
      "outputs": []
    },
    {
      "cell_type": "code",
      "metadata": {
        "id": "MOdP1OB_TQ_T"
      },
      "source": [
        "z.lstrip()"
      ],
      "execution_count": null,
      "outputs": []
    },
    {
      "cell_type": "markdown",
      "metadata": {
        "id": "9fSBFpcCTQ_T"
      },
      "source": [
        "Индексироваться по строкам можно с помощью квадратных скобок:"
      ]
    },
    {
      "cell_type": "code",
      "metadata": {
        "id": "gidvVEqxTQ_U"
      },
      "source": [
        "s = \"abc\"\n",
        "s[0]"
      ],
      "execution_count": null,
      "outputs": []
    },
    {
      "cell_type": "code",
      "metadata": {
        "id": "krIRY1G9TQ_U"
      },
      "source": [
        "s"
      ],
      "execution_count": null,
      "outputs": []
    },
    {
      "cell_type": "code",
      "metadata": {
        "id": "swqB0S8fTQ_U"
      },
      "source": [
        "s[0] = 'b'"
      ],
      "execution_count": null,
      "outputs": []
    },
    {
      "cell_type": "code",
      "metadata": {
        "id": "OOSkwN5kTQ_U"
      },
      "source": [
        "'b' + s[1:]"
      ],
      "execution_count": null,
      "outputs": []
    },
    {
      "cell_type": "code",
      "metadata": {
        "id": "DbPRzvskTQ_V"
      },
      "source": [
        "s[1:]"
      ],
      "execution_count": null,
      "outputs": []
    },
    {
      "cell_type": "code",
      "metadata": {
        "id": "BM5wuNtGTQ_V"
      },
      "source": [
        "s[:-1]"
      ],
      "execution_count": null,
      "outputs": []
    },
    {
      "cell_type": "code",
      "metadata": {
        "id": "Pb-ga9vaTQ_V"
      },
      "source": [
        "a = '0123456789'"
      ],
      "execution_count": null,
      "outputs": []
    },
    {
      "cell_type": "code",
      "metadata": {
        "id": "WdtSRujLTQ_V"
      },
      "source": [
        "a = a + '!'"
      ],
      "execution_count": null,
      "outputs": []
    },
    {
      "cell_type": "code",
      "metadata": {
        "scrolled": true,
        "id": "j5HD6YWcTQ_V"
      },
      "source": [
        "a"
      ],
      "execution_count": null,
      "outputs": []
    },
    {
      "cell_type": "code",
      "metadata": {
        "id": "YzBOr4aOTQ_V"
      },
      "source": [
        ""
      ],
      "execution_count": null,
      "outputs": []
    },
    {
      "cell_type": "markdown",
      "metadata": {
        "id": "hvJn6sGFTQ_W"
      },
      "source": [
        "**Внимание**: строка — неизменяемый объект!"
      ]
    },
    {
      "cell_type": "code",
      "metadata": {
        "id": "nHgiQ2reTQ_W"
      },
      "source": [
        "s[0] = 'b'"
      ],
      "execution_count": null,
      "outputs": []
    },
    {
      "cell_type": "markdown",
      "metadata": {
        "id": "sxPM6ymATQ_W"
      },
      "source": [
        "Срезы (slicing) — вид продвинутой индексации.\n",
        "\n",
        "s[start:finish:step]\n",
        "\n",
        "* start — начало среза\n",
        "* finish — конец среза (не входит в срез!!!)\n",
        "* step — шаг\n"
      ]
    },
    {
      "cell_type": "code",
      "metadata": {
        "id": "l4LXbtqrTQ_W"
      },
      "source": [
        "s"
      ],
      "execution_count": null,
      "outputs": []
    },
    {
      "cell_type": "code",
      "metadata": {
        "id": "kpPkoaRoTQ_W"
      },
      "source": [
        "s = '0123456789'"
      ],
      "execution_count": null,
      "outputs": []
    },
    {
      "cell_type": "code",
      "metadata": {
        "id": "-wkVm7HkTQ_W"
      },
      "source": [
        "s[0:7]"
      ],
      "execution_count": null,
      "outputs": []
    },
    {
      "cell_type": "code",
      "metadata": {
        "id": "eTyH9cocTQ_W"
      },
      "source": [
        "s[::2]"
      ],
      "execution_count": null,
      "outputs": []
    },
    {
      "cell_type": "code",
      "metadata": {
        "id": "_yDlc6jUTQ_X"
      },
      "source": [
        "s[::-1]"
      ],
      "execution_count": null,
      "outputs": []
    },
    {
      "cell_type": "code",
      "metadata": {
        "id": "AV1vo-sJTQ_X"
      },
      "source": [
        "s[::-2]"
      ],
      "execution_count": null,
      "outputs": []
    },
    {
      "cell_type": "code",
      "metadata": {
        "id": "povXyxhBTQ_X"
      },
      "source": [
        "s[::3]"
      ],
      "execution_count": null,
      "outputs": []
    },
    {
      "cell_type": "markdown",
      "metadata": {
        "id": "Jbq5g3zQTQ_X"
      },
      "source": [
        "Срез равный всей строке:"
      ]
    },
    {
      "cell_type": "code",
      "metadata": {
        "id": "Q8DaL9S5TQ_X"
      },
      "source": [
        "s[0:len(s):1]"
      ],
      "execution_count": null,
      "outputs": []
    },
    {
      "cell_type": "code",
      "metadata": {
        "id": "uSELbfiXTQ_Y"
      },
      "source": [
        "# срез с шагом 2\n",
        "s[0:len(s):2]"
      ],
      "execution_count": null,
      "outputs": []
    },
    {
      "cell_type": "markdown",
      "metadata": {
        "id": "EF0SeaUvTQ_Y"
      },
      "source": [
        "Срез равный одному элементу:"
      ]
    },
    {
      "cell_type": "code",
      "metadata": {
        "id": "zJAZKSh1TQ_Y"
      },
      "source": [
        "s[5:6:1]"
      ],
      "execution_count": null,
      "outputs": []
    },
    {
      "cell_type": "markdown",
      "metadata": {
        "id": "V2BNPFTYTQ_Y"
      },
      "source": [
        "start, finish, step могут иметь отрицательные значения\n",
        "\n",
        "* start == -a $\\; \\leftrightarrow \\;$ start == len(s) - a\n",
        "* finish == -a $\\; \\leftrightarrow \\;$ finish == len(s) - a\n",
        "* step == -a $\\; \\leftrightarrow \\;$ проходить список в обратном направлении"
      ]
    },
    {
      "cell_type": "markdown",
      "metadata": {
        "id": "UKtReIzvTQ_Y"
      },
      "source": [
        "<font color='red'>**Задача 2.** Что будет выведено после следующих команд:</font>\n",
        "    1. s[7:-1:-1]\n",
        "    2. s[:100:]\n",
        "    3. s[-1:8:-2]\n",
        "    4. s[4:-7]\n",
        "    5. s[-20::5]"
      ]
    },
    {
      "cell_type": "code",
      "metadata": {
        "id": "LXeKStrYTQ_Y"
      },
      "source": [
        "## your answer here"
      ],
      "execution_count": null,
      "outputs": []
    },
    {
      "cell_type": "markdown",
      "metadata": {
        "id": "ZoZtWifjTQ_Z"
      },
      "source": [
        "<font color='red'>**Задача 3.** Получите для строки s строку result, состоящую из элементов исходной строки, стоящих на чётных местах, в обратном порядке (включая A[0]), после которых идут элементы строки, стоящие на нечётных местах. Использовать циклы запрещено!</font>\n"
      ]
    },
    {
      "cell_type": "code",
      "metadata": {
        "id": "r_zUJsf5TQ_Z"
      },
      "source": [
        "s = 'qwertyuiopasdfghjkl'\n",
        "\n",
        "result = ## your answer here"
      ],
      "execution_count": null,
      "outputs": []
    },
    {
      "cell_type": "markdown",
      "metadata": {
        "id": "y3SUvrgSTQ_Z"
      },
      "source": [
        "Проверьте себя:"
      ]
    },
    {
      "cell_type": "code",
      "metadata": {
        "id": "86BIHpF_TQ_Z"
      },
      "source": [
        "assert result == 'ljgdaouteqwryipsfhk'"
      ],
      "execution_count": null,
      "outputs": []
    },
    {
      "cell_type": "markdown",
      "metadata": {
        "id": "mlwchb0uTQ_Z"
      },
      "source": [
        "### Списки"
      ]
    },
    {
      "cell_type": "code",
      "metadata": {
        "id": "2j1Jh-dBTQ_Z"
      },
      "source": [
        "a = [1, 2, 3, 2, 0]"
      ],
      "execution_count": null,
      "outputs": []
    },
    {
      "cell_type": "markdown",
      "metadata": {
        "id": "UIPNButLTQ_Z"
      },
      "source": [
        "В список могут входить любые объекты:"
      ]
    },
    {
      "cell_type": "code",
      "metadata": {
        "id": "SfW2ugcOTQ_Z"
      },
      "source": [
        "a = [1, '2', '3', [4, 5]]"
      ],
      "execution_count": null,
      "outputs": []
    },
    {
      "cell_type": "markdown",
      "metadata": {
        "id": "GS9IYQXWTQ_a"
      },
      "source": [
        "Операции над списками (похожи на строку):\n",
        "\n",
        "* cложение списков (+) — конкатенация списокв\n",
        "* умножение списка на целое число n (*) — повтороение списка n раз\n",
        "\n",
        "Индексация по списку такая же как и в строках."
      ]
    },
    {
      "cell_type": "code",
      "metadata": {
        "id": "deDtUNHuTQ_a"
      },
      "source": [
        "b = [1, '2']\n",
        "a + b"
      ],
      "execution_count": null,
      "outputs": []
    },
    {
      "cell_type": "code",
      "metadata": {
        "id": "7As9bcWdTQ_a"
      },
      "source": [
        "a * 2"
      ],
      "execution_count": null,
      "outputs": []
    },
    {
      "cell_type": "code",
      "metadata": {
        "id": "5sk_pB9NTQ_a"
      },
      "source": [
        "a[::-1]"
      ],
      "execution_count": null,
      "outputs": []
    },
    {
      "cell_type": "markdown",
      "metadata": {
        "id": "Lo-43M3RTQ_a"
      },
      "source": [
        "В Python есть встроенная функция sorted для сортировки списков:"
      ]
    },
    {
      "cell_type": "code",
      "metadata": {
        "id": "ei8PodSpTQ_b"
      },
      "source": [
        "sorted([1, 2, 1, 0, 2, 0])"
      ],
      "execution_count": null,
      "outputs": []
    },
    {
      "cell_type": "markdown",
      "metadata": {
        "id": "taZ930Q1TQ_b"
      },
      "source": [
        "**Внимание**: список — изменяемый объект! \n",
        "\n",
        "Можно менять элементы списка, можно добавлять новые элементы и удалять старые (`.append` и `.pop`)."
      ]
    },
    {
      "cell_type": "code",
      "metadata": {
        "id": "rWorHSr4TQ_b"
      },
      "source": [
        "a[0] = '123'\n",
        "a"
      ],
      "execution_count": null,
      "outputs": []
    },
    {
      "cell_type": "code",
      "metadata": {
        "id": "2emIWM10TQ_b"
      },
      "source": [
        "a.append('data science')\n",
        "a"
      ],
      "execution_count": null,
      "outputs": []
    },
    {
      "cell_type": "markdown",
      "metadata": {
        "id": "rbcPkpo5TQ_b"
      },
      "source": [
        "### Преобразования списков и строк\n",
        "\n",
        "Два основных строковых метода для взаимодействия списков и строк:\n",
        "\n",
        "* .split — разделить строку на список строк по определённому сепаратору\n",
        "* .join — соеденить список строк в одну большую строку по определённому сепаратору"
      ]
    },
    {
      "cell_type": "code",
      "metadata": {
        "id": "_LeWfmEDTQ_b"
      },
      "source": [
        "s = 'abaka,baraka,kusaka'\n",
        "s.split(',')"
      ],
      "execution_count": null,
      "outputs": []
    },
    {
      "cell_type": "code",
      "metadata": {
        "id": "rxH5fsewTQ_b"
      },
      "source": [
        "\", \".join(['arb', 'borb', 'kork'])"
      ],
      "execution_count": null,
      "outputs": []
    },
    {
      "cell_type": "markdown",
      "metadata": {
        "id": "_ZH2kAzSTQ_c"
      },
      "source": [
        "<font color='red'>**Задача 4.** В строке s через запятую записаны слова. Получите строку result, в которой будут записаны через запятую слова из s, отсортированные в лексикографическом порядке. </font>\n"
      ]
    },
    {
      "cell_type": "code",
      "metadata": {
        "id": "P11eGrHkTQ_c"
      },
      "source": [
        "s = \"my,mother,is,washing,window,my,father,is,watching,movies\"\n",
        "\n",
        "## your code here "
      ],
      "execution_count": null,
      "outputs": []
    },
    {
      "cell_type": "code",
      "metadata": {
        "id": "5FLjHfkWTQ_c"
      },
      "source": [
        "assert result == 'father,is,is,mother,movies,my,my,washing,watching,window'"
      ],
      "execution_count": null,
      "outputs": []
    },
    {
      "cell_type": "code",
      "metadata": {
        "id": "d2TTJLmvTQ_c"
      },
      "source": [
        ""
      ],
      "execution_count": null,
      "outputs": []
    },
    {
      "cell_type": "markdown",
      "metadata": {
        "id": "51XZNUnnTQ_c"
      },
      "source": [
        "## 8. Гуглим!\n",
        "\n",
        "__Задача:__ я хочу сгенерировать рандомное число, но я не знаю как это сделать. \n",
        "\n",
        "В этом месте ваш семинарист совершит смертельный номер. Он загуглит у вас на глазах как сгенерировать случайное число и найдёт код для этого."
      ]
    },
    {
      "cell_type": "code",
      "metadata": {
        "id": "_z_AwuTjTQ_c"
      },
      "source": [
        ""
      ],
      "execution_count": null,
      "outputs": []
    },
    {
      "cell_type": "markdown",
      "metadata": {
        "id": "-iY-UzfUTQ_d"
      },
      "source": [
        "Увидели чудо? Давайте договоримся, что вы не будете стесняться гуглить нужные вам команды и искать ответы на свои вопросы в интернете. Если уж совсем не выходит, задавайте их в наш чат технической поддержки в Телеграм. "
      ]
    },
    {
      "cell_type": "markdown",
      "metadata": {
        "id": "pDl99gFKTQ_d"
      },
      "source": [
        "## 9. Дзен Python и PEP-8\n",
        "\n",
        "Как мы увидели выше, команда `import` позволяет подгрузить различные пакеты и модули. Один из модулей, который обязательно нужно подгрузить на первой же паре - это модуль `this`"
      ]
    },
    {
      "cell_type": "code",
      "metadata": {
        "id": "oxhvu2ZCTQ_d"
      },
      "source": [
        "import this"
      ],
      "execution_count": null,
      "outputs": []
    },
    {
      "cell_type": "markdown",
      "metadata": {
        "id": "KEUm_J7ITQ_d"
      },
      "source": [
        "Разработчики языка Python придерживаются определённой философии программирования, называемой «The Zen of Python» («Дзен Питона», или «Дзен Пайтона»). Выше мы вывели на экран именно её. Изучите эту философию и тоже начните её придерживаться.\n",
        "\n",
        "Более того, мы рекомендуем вам изучить [стайлгайд по написанию кода PEP 8.](https://pythonworld.ru/osnovy/pep-8-rukovodstvo-po-napisaniyu-koda-na-python.html) В конце курса вас будет ждать домашка с код-ревью. В ней мы будем требовать, чтобы вы придерживались PEP 8. Код должен быть читаемым :) "
      ]
    }
  ]
}