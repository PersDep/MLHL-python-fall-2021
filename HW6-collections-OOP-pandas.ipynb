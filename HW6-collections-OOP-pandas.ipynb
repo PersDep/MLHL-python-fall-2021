{
  "nbformat": 4,
  "nbformat_minor": 0,
  "metadata": {
    "colab": {
      "name": "HW6-collections-OOP-pandas.ipynb",
      "provenance": [],
      "collapsed_sections": []
    },
    "kernelspec": {
      "name": "python3",
      "display_name": "Python 3"
    },
    "language_info": {
      "name": "python"
    }
  },
  "cells": [
    {
      "cell_type": "markdown",
      "metadata": {
        "id": "dwtgETJhCJSr"
      },
      "source": [
        "**Задача 1. Проверка хэшей:**\n",
        "Написать функцию checkhash(sequence, f, m), которой на вход подаётся коллекция не равных друг другу (это гарантируется) хешируемых объектов, хеш-функция и число m. Функция просматривает остатки от деления на m значения f() для всех объектов из sequence и возвращает кортеж из двух элементов — наибольшее и наименьшее количество произошедших коллизий."
      ]
    },
    {
      "cell_type": "markdown",
      "metadata": {
        "id": "k-xtEmeNQroi"
      },
      "source": [
        "**Задача 2. Любое имя:**\n",
        "Написать класс AnyAttr, в котором будут доступны поля с любым именем. Значение каждого поля по умолчанию будет совпадать с именем поля (строка), а при задании нового строкового значения туда будут попадать только буквы, встречающиеся в имени поля."
      ]
    },
    {
      "cell_type": "markdown",
      "metadata": {
        "id": "Alxpaea5WFas"
      },
      "source": [
        "**Задача 3. Выполните следующие задания на использование pandas по мотивам [семинара](https://github.com/PersDep/MLHL-python-fall-2021/blob/main/WS6-complex-structures-and-EDA.ipynb):**"
      ]
    },
    {
      "cell_type": "code",
      "metadata": {
        "id": "SsWlLgooWQB8"
      },
      "source": [
        "# place for code to prepare your dataframe"
      ],
      "execution_count": null,
      "outputs": []
    },
    {
      "cell_type": "markdown",
      "metadata": {
        "collapsed": false,
        "id": "iK-KWl8jWDW8"
      },
      "source": [
        "1. Какова доля семей, в которых минимальный возраст меньше 20 (семьи с детьми)?"
      ]
    },
    {
      "cell_type": "code",
      "metadata": {
        "pycharm": {
          "name": "#%%\n"
        },
        "id": "Vl7_SsHsWDW9"
      },
      "source": [
        "# your code here"
      ],
      "execution_count": null,
      "outputs": []
    },
    {
      "cell_type": "markdown",
      "metadata": {
        "collapsed": false,
        "id": "pbtRM23fWDW9"
      },
      "source": [
        "2. Какова доля выживших пассажиров из класса 3? А пассажиров из класса 1?"
      ]
    },
    {
      "cell_type": "code",
      "metadata": {
        "pycharm": {
          "name": "#%%\n"
        },
        "id": "k9EkqBLWWDW-"
      },
      "source": [
        "# your code here"
      ],
      "execution_count": null,
      "outputs": []
    },
    {
      "cell_type": "code",
      "metadata": {
        "pycharm": {
          "name": "#%%\n"
        },
        "id": "kO2WbfMpWDW-"
      },
      "source": [
        "# your code here"
      ],
      "execution_count": null,
      "outputs": []
    },
    {
      "cell_type": "markdown",
      "metadata": {
        "collapsed": false,
        "id": "DyeiGSitWDW-"
      },
      "source": [
        "3. Сколько пассажиров выжило, а сколько - нет?"
      ]
    },
    {
      "cell_type": "code",
      "metadata": {
        "pycharm": {
          "name": "#%%\n"
        },
        "id": "YIbFfOszWDW_"
      },
      "source": [
        "#your code here"
      ],
      "execution_count": null,
      "outputs": []
    },
    {
      "cell_type": "markdown",
      "metadata": {
        "collapsed": false,
        "id": "ps66i7jnWDW_"
      },
      "source": [
        "4. Создайте столбец \"IsChild\", который равен 1, если возраст меньше 20, и 0 иначе. Для пропущенных значений поведение функции может быть произвольным."
      ]
    },
    {
      "cell_type": "code",
      "metadata": {
        "pycharm": {
          "name": "#%%\n"
        },
        "id": "2xMKNZgDWDW_"
      },
      "source": [
        "# your code here"
      ],
      "execution_count": null,
      "outputs": []
    },
    {
      "cell_type": "markdown",
      "metadata": {
        "collapsed": false,
        "id": "t3I3X0qvWDXA"
      },
      "source": [
        "5. Какова доля выживших женщин из первого класса? А доля выживших мужчин из 3 класса?"
      ]
    },
    {
      "cell_type": "code",
      "metadata": {
        "pycharm": {
          "name": "#%%\n"
        },
        "id": "rruxHT52WDXA"
      },
      "source": [
        "# your code here"
      ],
      "execution_count": null,
      "outputs": []
    },
    {
      "cell_type": "markdown",
      "metadata": {
        "id": "5La6HhPZuX4D"
      },
      "source": [
        "*Задача 1 и задача 2 весят по 2.5 балла. В задаче 3 каждый подпункт стоит 1 балл*"
      ]
    }
  ]
}