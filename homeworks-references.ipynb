{
  "nbformat": 4,
  "nbformat_minor": 0,
  "metadata": {
    "colab": {
      "name": "homeworks-references.ipynb",
      "provenance": [],
      "collapsed_sections": []
    },
    "kernelspec": {
      "name": "python3",
      "display_name": "Python 3"
    },
    "language_info": {
      "name": "python"
    }
  },
  "cells": [
    {
      "cell_type": "markdown",
      "metadata": {
        "id": "VqWvwjjSUV2o"
      },
      "source": [
        "**Задача 1.** Напишите решение следующих задач по обработке строк как можно более компактно (не забывая про эффективность):\n",
        "* Если во входной строке встречается подстрока 'bad' после подстроки 'not', заменить подстроку \"not'...'bad' на 'good'. Верните получившуюся строку.\n",
        "Пример: для 'This dinner is not that bad!' нужно вернуть 'This dinner is good!'. Заменяется ближайшее вхождение bad к первому вхождению not, затем процесс продолжается, т.е. из 'not not bad bad' получится 'good bad', а из 'not not bad' получится 'good'\n",
        "* Подсчитайте сумму всех чисел, встречающихся в произвольной входной строке (идущие подряд цифры считаются одним числом). Верните получившуюся сумму\n",
        "* Проверьте, являются ли две выходные строки эквивалентными с точностью до прокрутки. Верните True, если да, False, если нет. Пример: 'GFG' и 'FGG', 'fooBar' и 'oBarfo' эквивалентны с точностью для прокрутки, 'fooBar' и 'arooBf' -- нет\n",
        "* Дана строка-предложение из слов, разделённых пробелами. Вернуть строку со словами, расположенными в обратном порядке"
      ]
    },
    {
      "cell_type": "code",
      "metadata": {
        "id": "WIhoC9IvXudy"
      },
      "source": [
        "def answer(inp: str) -> str:\n",
        "    while True:\n",
        "        try:\n",
        "            start = inp.index('not')\n",
        "            end = inp[start:].index('bad') + 3\n",
        "        except ValueError:\n",
        "            break\n",
        "\n",
        "        inp = ''.join((inp[:start], 'good', inp[start + end:]))\n",
        "\n",
        "    return inp"
      ],
      "execution_count": null,
      "outputs": []
    },
    {
      "cell_type": "code",
      "metadata": {
        "id": "7uUbYHB1ZF0Y"
      },
      "source": [
        "def answer(inp: str) -> int:\n",
        "    return sum([*map(int, re.findall(r'\\d+', inp))])"
      ],
      "execution_count": null,
      "outputs": []
    },
    {
      "cell_type": "code",
      "metadata": {
        "id": "algY1R7dZIAK"
      },
      "source": [
        "def answer(inp_1: str, inp_2: str) -> bool:\n",
        "    return inp_1 in inp_2 * 2"
      ],
      "execution_count": null,
      "outputs": []
    },
    {
      "cell_type": "code",
      "metadata": {
        "id": "6VXypl67ZKwG"
      },
      "source": [
        "def answer(inp: str) -> str:\n",
        "    return ' '.join(inp.split(' ')[::-1])"
      ],
      "execution_count": null,
      "outputs": []
    },
    {
      "cell_type": "markdown",
      "metadata": {
        "id": "r9n3FG3vZSja"
      },
      "source": [
        "**Задача 2*.** Напишите функцию, принимающую переменное число параметров: коллекцию чисел S и n функций (f1, .., fn), где n >=1. Нужно вернуть функцию, сумма значений которой на элементах S максимальная. Если таких функций больше одной, возвращается последняя из них по счёту."
      ]
    },
    {
      "cell_type": "code",
      "metadata": {
        "id": "SuI3pWmqZSH6"
      },
      "source": [
        "def maxfun(sequence, *functions):\n",
        "    return max(*functions[::-1], key=lambda f: sum(f(i) for i in sequence))"
      ],
      "execution_count": null,
      "outputs": []
    },
    {
      "cell_type": "markdown",
      "metadata": {
        "id": "rWeMVtM3ZYKc"
      },
      "source": [
        "**Задача 1.** ```Написать класс morse, инициализируемый строкой,  экземпляр которого представляет арифметические знаки в виде кода азбуки Морзе по заданным правилам. Удобно достичь такого результата, переопределяя арифметические (и не только) операции для этого класса, такие как __pos__ (унарный плюс, +x), __invert__ (побитовая инверсия, ~x) и т.д. Сигнал азбуки Морзе кодируется следующим образом: «+» — точка, «-» — тире, «~» — промежуток между буквами. Класс может принимать на вход строку, задающую формат перевода, состоящую либо из символов, либо из слов. Строка состоит из слов, если в ней есть хотя бы один пробел. В противном случае она состоит из символов. Два элемента задают точку и тире. Три — точку, точку на конце передаваемой буквы и тире. Четвёртый — конец сообщения. В случае, если параметры — символы, буквы разделяются пробелами. Если параметры — слова, то буквы разделяются \", \", элементы буквы разделяются пробелами, в конце по умолчанию ставится точка. Точка на конце передаваемой буквы по умолчанию соответствует обычной точке. В случае полного отсутствия инициализирующей строки, dah — тире, di — точка, dit — точка на конце передаваемой буквы.```"
      ]
    },
    {
      "cell_type": "code",
      "metadata": {
        "id": "7vh6JjPcZifC"
      },
      "source": [
        "class morse:\n",
        "    def __init__(self, str=''):\n",
        "        if str == '' or str.find(' ') != -1:\n",
        "            self.long = 'dah'\n",
        "            self.short = 'di'\n",
        "            self.short_end = 'dit'\n",
        "            self.word_sep = ', '\n",
        "            self.letter_sep = ' '\n",
        "            self.msg_end = '.'\n",
        "            str = [x for x in str.split(' ')]\n",
        "        else:\n",
        "            self.word_sep = ' '\n",
        "            self.letter_sep = ''\n",
        "            self.msg_end = ''\n",
        "\n",
        "        if len(str) == 2:\n",
        "            # Два элемента задают точку и тире\n",
        "            self.short = str[0]\n",
        "            self.short_end = str[0]\n",
        "            self.long = str[1]\n",
        "\n",
        "        elif len(str) >= 3:\n",
        "            # Три — точку, точку на конце передаваемой буквы и тире\n",
        "            self.short = str[0]\n",
        "            self.short_end = str[1]\n",
        "            self.long = str[2]\n",
        "            if len(str) == 4:\n",
        "                # Четвёртый — конец сообщения\n",
        "                self.msg_end = str[3]\n",
        "        self.code = [self.msg_end]\n",
        "        self.last_is_space = True\n",
        "\n",
        "    def __pos__(self):\n",
        "        if self.last_is_space:\n",
        "            self.code = [self.short_end] + self.code\n",
        "        else:\n",
        "            self.code = [self.short + self.letter_sep] + self.code\n",
        "        self.last_is_space = False\n",
        "        return self\n",
        "\n",
        "    def __invert__(self):\n",
        "        self.code = [self.word_sep] + self.code\n",
        "        self.last_is_space = True\n",
        "        return self\n",
        "\n",
        "    def __neg__(self):\n",
        "        if self.last_is_space:\n",
        "            self.code = [self.long] + self.code\n",
        "        else:\n",
        "            self.code = [self.long + self.letter_sep] + self.code\n",
        "        self.last_is_space = False\n",
        "        return self\n",
        "\n",
        "    def __str__(self):\n",
        "        return ''.join(self.code)"
      ],
      "execution_count": null,
      "outputs": []
    },
    {
      "cell_type": "markdown",
      "metadata": {
        "id": "5yctBexLaBx0"
      },
      "source": [
        "**Задача 2.** Написать функцию (параметрический декоратор) fixedfloat(n), с помощью которой все вещественные (как позиционные, так и именные) параметры произвольной декорируемой функции, а также её возвращаемое значение, округляются до n-го знака после запятой. Если какие-то параметры функции оказались не вещественными, или не вещественно возвращаемое значение, эти объекты не меняются."
      ]
    },
    {
      "cell_type": "code",
      "metadata": {
        "id": "7BhNOdWSaEq6"
      },
      "source": [
        "def fixedfloat(n):\n",
        "    def round_float(x):\n",
        "        return round(x, n) if type(x) == float else x\n",
        "    def outer(func):\n",
        "        def wrapper(*args, **kwargs):\n",
        "            return round_float(func(*map(round_float, args), **{key: round_float(value) for key, value in kwargs.items()}))\n",
        "        return wrapper\n",
        "    return outer"
      ],
      "execution_count": null,
      "outputs": []
    },
    {
      "cell_type": "markdown",
      "metadata": {
        "id": "LvpZrVyRaWlJ"
      },
      "source": [
        "**Задача 1. Контроль количества:**\n",
        "Написать класс SelfCount, объекты которого содержат поле count, равное количеству существующих экземпляров этого класса. Игнорировать попытки изменить значение этого поля вручную или удалить его."
      ]
    },
    {
      "cell_type": "code",
      "metadata": {
        "id": "4bpXdvyLakpS"
      },
      "source": [
        "class SelfCount:\n",
        "    __count = 0\n",
        "\n",
        "    def __init__(self):\n",
        "        SelfCount.__count += 1\n",
        "\n",
        "    def get_count(self):\n",
        "        return SelfCount.__count\n",
        "\n",
        "    def set_count(self, value):\n",
        "        return\n",
        "\n",
        "    def del_count(self):\n",
        "        return\n",
        "\n",
        "    def __del__(self):\n",
        "        SelfCount.__count -= 1\n",
        "\n",
        "    count = property(get_count, set_count, del_count)"
      ],
      "execution_count": null,
      "outputs": []
    },
    {
      "cell_type": "markdown",
      "metadata": {
        "id": "QJ3K8R7yaqSs"
      },
      "source": [
        "**Задача 2. Всё включено:** Написать декоратор класса sizer, который добавляет в него поле size, равное длине объекта, если у объекта есть длина, или модулю целочисленного представления объекта в противном случае (предполагается, что ошибок нет). Предоставить пользователю возможность произвольно менять это поле."
      ]
    },
    {
      "cell_type": "code",
      "metadata": {
        "id": "6wHhxbe3a9Iw"
      },
      "source": [
        "from collections.abc import Callable\n",
        "from typing import Any, Type\n",
        "\n",
        "def sizer(cls: Type[Any]) -> Type[Any]:\n",
        "    init: Callable[..., None] = cls.__init__\n",
        "    def wrapper(self: Any, *args: Any, **kwargs: Any) -> None:\n",
        "        try:\n",
        "            init(self, *args, **kwargs)\n",
        "        except TypeError:\n",
        "            init(self)\n",
        "        self.size = len(self) if hasattr(self, '__len__') else abs(int(self))\n",
        "    cls.__init__ = wrapper\n",
        "    return cls"
      ],
      "execution_count": null,
      "outputs": []
    },
    {
      "cell_type": "markdown",
      "metadata": {
        "id": "poGyjCm8bIu-"
      },
      "source": [
        "**Задача 1. Генерируем Пи:**\n",
        "Пользуясь формулой Лейбница для вычисления числа Пи, написать бесконечный генератор pigen(), возвращающий последовательно 4, 4-4/3, 4-4/3+4/5, 4-4/3+4/5-4/7 …"
      ]
    },
    {
      "cell_type": "code",
      "metadata": {
        "id": "psXyfaTobPIk"
      },
      "source": [
        "def pigen():\n",
        "    series_sum, sign, denominator = 0.0, 1, 1\n",
        "    while True:\n",
        "        sign, denominator, series_sum = sign * -1, denominator + 2, series_sum + sign * 4 / denominator\n",
        "        yield series_sum"
      ],
      "execution_count": null,
      "outputs": []
    },
    {
      "cell_type": "markdown",
      "metadata": {
        "id": "w6vLzoFqbbbI"
      },
      "source": [
        "**Задача 2. Итерируемся:** Написать функцию chainslice(begin, end, seq0, seq1, …), которая принимает не менее трёх параметров: два целых числа и не менее одной последовательности. Рассмотрим последовательность seq, образованную всеми элементами seq0, затем — всеми элементами seq1, и т. д. Вернуть эта функция должна итератор, пробегающий элементы последовательности seq с begin до end - 1 включительно."
      ]
    },
    {
      "cell_type": "code",
      "metadata": {
        "id": "Z0K5aqwSbbC8"
      },
      "source": [
        "def chainslice(begin, end, *seq):\n",
        "    return itertools.islice(itertools.chain(*seq), begin, end)"
      ],
      "execution_count": null,
      "outputs": []
    }
  ]
}