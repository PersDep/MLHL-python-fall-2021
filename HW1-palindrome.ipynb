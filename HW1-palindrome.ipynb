{
  "nbformat": 4,
  "nbformat_minor": 0,
  "metadata": {
    "colab": {
      "name": "Untitled4.ipynb",
      "provenance": []
    },
    "kernelspec": {
      "name": "python3",
      "display_name": "Python 3"
    },
    "language_info": {
      "name": "python"
    }
  },
  "cells": [
    {
      "cell_type": "markdown",
      "metadata": {
        "id": "dwtgETJhCJSr"
      },
      "source": [
        "Задача: напишите исходный код на Python 3 для проверки, является ли введённое число [палиндромом](https://ru.wikipedia.org/wiki/%D0%9F%D0%B0%D0%BB%D0%B8%D0%BD%D0%B4%D1%80%D0%BE%D0%BC) (например, 112343211 -- да, 100 -- нет). Программа должна принимать на вход число и печатать на выход ответ \"palindrome\" или \"not palindrome\".\n",
        "Предоставьте реализацию в ноутбуке (.ipynb) и обычном файле (.py). Оба файла должны лежать в вашем репозитории на [GitHub](https://github.com)."
      ]
    }
  ]
}