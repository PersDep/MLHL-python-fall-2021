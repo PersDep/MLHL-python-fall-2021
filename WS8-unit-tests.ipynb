{
  "nbformat": 4,
  "nbformat_minor": 0,
  "metadata": {
    "colab": {
      "name": "Unittests.ipynb",
      "provenance": []
    },
    "kernelspec": {
      "name": "python3",
      "display_name": "Python 3"
    },
    "language_info": {
      "name": "python"
    }
  },
  "cells": [
    {
      "cell_type": "code",
      "metadata": {
        "id": "RMP2iKDlhnFm"
      },
      "source": [
        "import datetime\n",
        "import dateutil\n",
        "def make_url(date):\n",
        "    \"\"\"Return the url for our API call based on date.\"\"\"\n",
        "    if isinstance(date, str):\n",
        "        date = dateutil.parser.parse(date).date()\n",
        "    elif not isinstance(date, datetime.date):\n",
        "        raise ValueError(\"must be a date\")\n",
        "    if date >= datetime.date(2020, 1, 1):\n",
        "        return f\"https://api.example.com/v2/{date.year}/{date.month}/{date.day}\"\n",
        "    else:\n",
        "        return f\"https://api.example.com/v1/{date:%Y-%m-%d}\""
      ],
      "execution_count": null,
      "outputs": []
    },
    {
      "cell_type": "code",
      "metadata": {
        "colab": {
          "base_uri": "https://localhost:8080/",
          "height": 531
        },
        "id": "ASIroAwJkyIv",
        "outputId": "de54cfe1-364c-4cb8-9e9e-114a530627c0"
      },
      "source": [
        "import unittest\n",
        "class TestUrl(unittest.TestCase):\n",
        "    def test_make_url_v2(self):\n",
        "        date = datetime.date(2020, 1, 1)\n",
        "        self.assertEqual(make_url(date), \"https://api.example.com/v2/2021/1/1\")\n",
        "        \n",
        "    def test_make_url_v1(self):\n",
        "        date = datetime.date(2019, 12, 31)\n",
        "        self.assertEqual(make_url(date), \"https://api.example.com/v1/2019-12-31\")\n",
        "        \n",
        "res = unittest.main(argv=[''], verbosity=5, exit=False)\n",
        "\n",
        "# if we want our notebook to stop processing due to failures, we need a cell itself to fail\n",
        "assert len(res.result.failures) == 0"
      ],
      "execution_count": null,
      "outputs": [
        {
          "output_type": "stream",
          "name": "stderr",
          "text": [
            "test_make_url_v1 (__main__.TestUrl) ... ok\n",
            "test_make_url_v2 (__main__.TestUrl) ... FAIL\n",
            "\n",
            "======================================================================\n",
            "FAIL: test_make_url_v2 (__main__.TestUrl)\n",
            "----------------------------------------------------------------------\n",
            "Traceback (most recent call last):\n",
            "  File \"<ipython-input-16-8b578997355a>\", line 5, in test_make_url_v2\n",
            "    self.assertEqual(make_url(date), \"https://api.example.com/v2/2021/1/1\")\n",
            "AssertionError: 'https://api.example.com/v2/2020/1/1' != 'https://api.example.com/v2/2021/1/1'\n",
            "- https://api.example.com/v2/2020/1/1\n",
            "?                               ^\n",
            "+ https://api.example.com/v2/2021/1/1\n",
            "?                               ^\n",
            "\n",
            "\n",
            "----------------------------------------------------------------------\n",
            "Ran 2 tests in 0.006s\n",
            "\n",
            "FAILED (failures=1)\n"
          ]
        },
        {
          "output_type": "error",
          "ename": "AssertionError",
          "evalue": "ignored",
          "traceback": [
            "\u001b[0;31m---------------------------------------------------------------------------\u001b[0m",
            "\u001b[0;31mAssertionError\u001b[0m                            Traceback (most recent call last)",
            "\u001b[0;32m<ipython-input-16-8b578997355a>\u001b[0m in \u001b[0;36m<module>\u001b[0;34m()\u001b[0m\n\u001b[1;32m     12\u001b[0m \u001b[0;34m\u001b[0m\u001b[0m\n\u001b[1;32m     13\u001b[0m \u001b[0;31m# if we want our notebook to stop processing due to failures, we need a cell itself to fail\u001b[0m\u001b[0;34m\u001b[0m\u001b[0;34m\u001b[0m\u001b[0;34m\u001b[0m\u001b[0m\n\u001b[0;32m---> 14\u001b[0;31m \u001b[0;32massert\u001b[0m \u001b[0mlen\u001b[0m\u001b[0;34m(\u001b[0m\u001b[0mres\u001b[0m\u001b[0;34m.\u001b[0m\u001b[0mresult\u001b[0m\u001b[0;34m.\u001b[0m\u001b[0mfailures\u001b[0m\u001b[0;34m)\u001b[0m \u001b[0;34m==\u001b[0m \u001b[0;36m0\u001b[0m\u001b[0;34m\u001b[0m\u001b[0;34m\u001b[0m\u001b[0m\n\u001b[0m",
            "\u001b[0;31mAssertionError\u001b[0m: "
          ]
        }
      ]
    },
    {
      "cell_type": "code",
      "metadata": {
        "id": "wq2KAgCrk2y7"
      },
      "source": [
        "def make_url(date):\n",
        "    \"\"\"Return the url for our API call based on date.\n",
        "    >>> make_url(\"1/1/2020\")\n",
        "    'https://api.example.com/v2/2020/1/1'\n",
        "    \n",
        "    >>> make_url(\"1-1-x1\")\n",
        "    'https://api.example.com/v2/2020/1/1'\n",
        "    \n",
        "    >>> make_url(\"1/1/20001\")\n",
        "    Traceback (most recent call last):\n",
        "        ...\n",
        "    dateutil.parser._parser.ParserError: year 20001 is out of range: 1/1/20001\n",
        "    \n",
        "    >>> make_url(datetime.date(2020,1,1))\n",
        "    'https://api.example.com/v2/2020/1/1'\n",
        "    \n",
        "    >>> make_url(datetime.date(2019,12,31))\n",
        "    'https://api.example.com/v1/2019-12-31'\n",
        "    \"\"\"\n",
        "    if isinstance(date, str):\n",
        "        date = dateutil.parser.parse(date).date()\n",
        "    elif not isinstance(date, datetime.date):\n",
        "        raise ValueError(\"must be a date\")\n",
        "    if date >= datetime.date(2020, 1, 1):\n",
        "        return f\"https://api.example.com/v2/{date.year}/{date.month}/{date.day}\"\n",
        "    else:\n",
        "        return f\"https://api.example.com/v1/{date:%Y-%m-%d}\""
      ],
      "execution_count": null,
      "outputs": []
    },
    {
      "cell_type": "code",
      "metadata": {
        "colab": {
          "base_uri": "https://localhost:8080/"
        },
        "id": "aQum-FI_k6M_",
        "outputId": "6cd16484-fe2b-4c0e-ba31-f05467db0a02"
      },
      "source": [
        "import doctest\n",
        "doctest.testmod()"
      ],
      "execution_count": null,
      "outputs": [
        {
          "output_type": "stream",
          "name": "stdout",
          "text": [
            "**********************************************************************\n",
            "File \"__main__\", line 6, in __main__.make_url\n",
            "Failed example:\n",
            "    make_url(\"1-1-x1\")\n",
            "Exception raised:\n",
            "    Traceback (most recent call last):\n",
            "      File \"/usr/lib/python3.7/doctest.py\", line 1337, in __run\n",
            "        compileflags, 1), test.globs)\n",
            "      File \"<doctest __main__.make_url[1]>\", line 1, in <module>\n",
            "        make_url(\"1-1-x1\")\n",
            "      File \"<ipython-input-13-0d444c5e6242>\", line 21, in make_url\n",
            "        date = dateutil.parser.parse(date).date()\n",
            "      File \"/usr/local/lib/python3.7/dist-packages/dateutil/parser/_parser.py\", line 1368, in parse\n",
            "        return DEFAULTPARSER.parse(timestr, **kwargs)\n",
            "      File \"/usr/local/lib/python3.7/dist-packages/dateutil/parser/_parser.py\", line 643, in parse\n",
            "        raise ParserError(\"Unknown string format: %s\", timestr)\n",
            "    dateutil.parser._parser.ParserError: Unknown string format: 1-1-x1\n",
            "**********************************************************************\n",
            "1 items had failures:\n",
            "   1 of   5 in __main__.make_url\n",
            "***Test Failed*** 1 failures.\n"
          ]
        },
        {
          "output_type": "execute_result",
          "data": {
            "text/plain": [
              "TestResults(failed=1, attempted=5)"
            ]
          },
          "metadata": {},
          "execution_count": 14
        }
      ]
    }
  ]
}