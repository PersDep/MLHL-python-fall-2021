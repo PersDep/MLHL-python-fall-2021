{
  "nbformat": 4,
  "nbformat_minor": 0,
  "metadata": {
    "colab": {
      "name": "Project.ipynb",
      "provenance": [],
      "collapsed_sections": []
    },
    "kernelspec": {
      "name": "python3",
      "display_name": "Python 3"
    },
    "language_info": {
      "name": "python"
    }
  },
  "cells": [
    {
      "cell_type": "markdown",
      "metadata": {
        "id": "bTFHicQTHZ9X"
      },
      "source": [
        "# Проект"
      ]
    },
    {
      "cell_type": "markdown",
      "metadata": {
        "id": "dwtgETJhCJSr"
      },
      "source": [
        "**Часть 1. Разбираемся с API.**\n",
        "В течение первой недели ваша задача разобраться с API выбранного вами ресурса и написать базовую реализацию взаимодействия с ним. На текущий момент рассматриваются 2 варианта: Telegram и VK. Для реализации удобнее всего использовать новый отдельный репозиторий. Это **не** групповой этап.\n",
        "\n",
        "Для Telegram требуется написать бота, который будет печатать мотивирующие цитаты на ваш выбор.\n",
        "* Туториал: https://www.section.io/engineering-education/building-a-telegram-bot-with-python-to-generate-quotes/\n",
        "* Официальная страничка: https://core.telegram.org/bots\n",
        "\n",
        "Для VK требуется написать бота, который выводит дату и количество лайков последних 10 записей на стене выбранного сообщества.\n",
        "* Гайд по библиотеке: https://vk.readthedocs.io/en/latest/installation/\n",
        "* Документация API: https://vk.com/dev/wall"
      ]
    }
  ]
}