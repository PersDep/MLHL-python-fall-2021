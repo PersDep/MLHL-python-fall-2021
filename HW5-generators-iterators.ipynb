{
  "nbformat": 4,
  "nbformat_minor": 0,
  "metadata": {
    "colab": {
      "name": "HW5-generators-iterators.ipynb",
      "provenance": [],
      "collapsed_sections": []
    },
    "kernelspec": {
      "name": "python3",
      "display_name": "Python 3"
    },
    "language_info": {
      "name": "python"
    }
  },
  "cells": [
    {
      "cell_type": "markdown",
      "metadata": {
        "id": "dwtgETJhCJSr"
      },
      "source": [
        "**Задача 1. Генерируем Пи:**\n",
        "Пользуясь формулой Лейбница для вычисления числа Пи, написать бесконечный генератор pigen(), возвращающий последовательно 4, 4-4/3, 4-4/3+4/5, 4-4/3+4/5-4/7 …"
      ]
    },
    {
      "cell_type": "markdown",
      "metadata": {
        "id": "k-xtEmeNQroi"
      },
      "source": [
        "**Задача 2. Итерируемся:** Написать функцию chainslice(begin, end, seq0, seq1, …), которая принимает не менее трёх параметров: два целых числа и не менее одной последовательности. Рассмотрим последовательность seq, образованную всеми элементами seq0, затем — всеми элементами seq1, и т. д. Вернуть эта функция должна итератор, пробегающий элементы последовательности seq с begin до end - 1 включительно."
      ]
    },
    {
      "cell_type": "markdown",
      "metadata": {
        "id": "5La6HhPZuX4D"
      },
      "source": [
        "*Задача 1 и задача 2 весят по 5 баллов*"
      ]
    }
  ]
}