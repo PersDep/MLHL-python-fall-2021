{
  "nbformat": 4,
  "nbformat_minor": 0,
  "metadata": {
    "colab": {
      "name": "HW4-OOP+.ipynb\"",
      "provenance": [],
      "collapsed_sections": []
    },
    "kernelspec": {
      "name": "python3",
      "display_name": "Python 3"
    },
    "language_info": {
      "name": "python"
    }
  },
  "cells": [
    {
      "cell_type": "markdown",
      "metadata": {
        "id": "dwtgETJhCJSr"
      },
      "source": [
        "**Задача 1. Контроль количества:**\n",
        "Написать класс SelfCount, объекты которого содержат поле count, равное количеству существующих экземпляров этого класса. Игнорировать попытки изменить значение этого поля вручную или удалить его.\n",
        "\n",
        "*Примеры*\n",
        "\n",
        "```\n",
        "a = SelfCount()\n",
        "print(a.count)\n",
        "b, c = SelfCount(), SelfCount(),\n",
        "a.count = 100500\n",
        "print(a.count, b.count, c.count)\n",
        "del b.count\n",
        "del b\n",
        "print(a.count)\n",
        "```\n",
        "\n",
        "Вывод:\n",
        "```\n",
        "1\n",
        "3 3 3\n",
        "2\n",
        "```\n"
      ]
    },
    {
      "cell_type": "markdown",
      "metadata": {
        "id": "k-xtEmeNQroi"
      },
      "source": [
        "**Задача 2. Всё включено:** Написать декоратор класса sizer, который добавляет в него поле size, равное длине объекта, если у объекта есть длина, или модулю целочисленного представления объекта в противном случае (предполагается, что ошибок нет). Предоставить пользователю возможность произвольно менять это поле.\n",
        "\n",
        "*Примеры*\n",
        "\n",
        "```\n",
        "@sizer\n",
        "class S(str): pass\n",
        "\n",
        "@sizer\n",
        "class N(float): pass\n",
        "\n",
        "s = S(\"QSXWDC\")\n",
        "n = N(2.718281828459045)\n",
        "print(s, n)\n",
        "print(s.size, n.size)\n",
        "s.size, n.size = \"Wait\", \"what?\"\n",
        "print(s.size, n.size)\n",
        "```\n",
        "\n",
        "Вывод:\n",
        "\n",
        "```\n",
        "QSXWDC 2.718281828459045\n",
        "6 2\n",
        "Wait what?\n",
        "```"
      ]
    },
    {
      "cell_type": "markdown",
      "metadata": {
        "id": "5La6HhPZuX4D"
      },
      "source": [
        "*Задача 1 и задача 2 весят по 5 баллов*"
      ]
    }
  ]
}