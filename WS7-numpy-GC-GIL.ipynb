{
 "nbformat": 4,
 "nbformat_minor": 0,
 "metadata": {
  "kernelspec": {
   "display_name": "Python 3",
   "language": "python",
   "name": "python3"
  },
  "language_info": {
   "codemirror_mode": {
    "name": "ipython",
    "version": 3
   },
   "file_extension": ".py",
   "mimetype": "text/x-python",
   "name": "python",
   "nbconvert_exporter": "python",
   "pygments_lexer": "ipython3",
   "version": "3.7.9"
  },
  "colab": {
   "name": "sem02_numpy.ipynb",
   "provenance": []
  }
 },
 "cells": [
  {
   "cell_type": "markdown",
   "metadata": {
    "id": "oq6UohAE7-ym"
   },
   "source": [
    "# Семинар 2"
   ]
  },
  {
   "cell_type": "markdown",
   "metadata": {
    "id": "iaSb9rg77-yp"
   },
   "source": [
    "## numpy"
   ]
  },
  {
   "cell_type": "markdown",
   "metadata": {
    "id": "shZ4PYAA7-yp"
   },
   "source": [
    "- документация: http://www.numpy.org/"
   ]
  },
  {
   "cell_type": "markdown",
   "metadata": {
    "id": "ZuSVe3hO7-yp"
   },
   "source": [
    "Библиотека numpy является удобным инструментом для работы с многомерными массивами с возможностью векторизации вычислений. Рассмотрим базовые вещи, которые можно делать с помощью нее."
   ]
  },
  {
   "cell_type": "code",
   "metadata": {
    "id": "niq458a77-yq"
   },
   "source": [
    "import numpy as np"
   ],
   "execution_count": 2,
   "outputs": []
  },
  {
   "cell_type": "code",
   "metadata": {
    "id": "rw731DVy7-yq"
   },
   "source": [
    "vec = np.array([[1, 2], [3, 4], [5, 6]])"
   ],
   "execution_count": 118,
   "outputs": []
  },
  {
   "cell_type": "code",
   "metadata": {
    "id": "JakixV2i7-yq",
    "outputId": "de5317c8-44db-434d-e887-50671948d60f",
    "colab": {
     "base_uri": "https://localhost:8080/"
    }
   },
   "source": [
    "vec"
   ],
   "execution_count": 65,
   "outputs": [
    {
     "output_type": "execute_result",
     "data": {
      "text/plain": [
       "array([[1, 2],\n",
       "       [3, 4],\n",
       "       [5, 6]])"
      ]
     },
     "metadata": {
      "tags": []
     },
     "execution_count": 65
    }
   ]
  },
  {
   "cell_type": "code",
   "metadata": {
    "id": "XEElyVi37-yr",
    "outputId": "8da7bc47-225b-492a-e476-363c55664bdc",
    "colab": {
     "base_uri": "https://localhost:8080/"
    }
   },
   "source": [
    "print(vec)"
   ],
   "execution_count": 66,
   "outputs": [
    {
     "output_type": "stream",
     "text": [
      "[[1 2]\n",
      " [3 4]\n",
      " [5 6]]\n"
     ],
     "name": "stdout"
    }
   ]
  },
  {
   "cell_type": "markdown",
   "metadata": {
    "id": "nceABYqc7-yr"
   },
   "source": [
    "С чем мы работаем?"
   ]
  },
  {
   "cell_type": "code",
   "metadata": {
    "id": "hLVpCUWk7-yr",
    "outputId": "165bb3f6-274e-41f9-ac31-73521b11ab7f",
    "colab": {
     "base_uri": "https://localhost:8080/"
    }
   },
   "source": [
    "vec.dtype"
   ],
   "execution_count": 119,
   "outputs": [
    {
     "output_type": "execute_result",
     "data": {
      "text/plain": [
       "dtype('int32')"
      ]
     },
     "metadata": {
      "tags": []
     },
     "execution_count": 119
    }
   ]
  },
  {
   "cell_type": "code",
   "metadata": {
    "id": "vAnrAw_57-yr",
    "outputId": "064b770b-8f05-4a3a-a7f5-d359dd3ca563",
    "colab": {
     "base_uri": "https://localhost:8080/"
    }
   },
   "source": [
    "type(vec)"
   ],
   "execution_count": 68,
   "outputs": [
    {
     "output_type": "execute_result",
     "data": {
      "text/plain": [
       "numpy.ndarray"
      ]
     },
     "metadata": {
      "tags": []
     },
     "execution_count": 68
    }
   ]
  },
  {
   "cell_type": "markdown",
   "metadata": {
    "id": "aykgi9wG7-ys"
   },
   "source": [
    "Размер массива:"
   ]
  },
  {
   "cell_type": "code",
   "metadata": {
    "id": "Y3vjK6IK7-ys",
    "outputId": "05db109e-be56-4e78-e942-9934b601f87a",
    "colab": {
     "base_uri": "https://localhost:8080/"
    }
   },
   "source": [
    "vec.shape"
   ],
   "execution_count": 8,
   "outputs": [
    {
     "output_type": "execute_result",
     "data": {
      "text/plain": [
       "(3, 2)"
      ]
     },
     "metadata": {
      "tags": []
     },
     "execution_count": 8
    }
   ]
  },
  {
   "cell_type": "markdown",
   "metadata": {
    "id": "lTaU9_wW7-yt"
   },
   "source": [
    "Число осей:"
   ]
  },
  {
   "cell_type": "code",
   "metadata": {
    "id": "ygd7yD5L7-yt",
    "outputId": "6a044bd1-e8e5-407c-e989-c79c7e5c09f9",
    "colab": {
     "base_uri": "https://localhost:8080/"
    }
   },
   "source": [
    "vec.ndim"
   ],
   "execution_count": 9,
   "outputs": [
    {
     "output_type": "execute_result",
     "data": {
      "text/plain": [
       "2"
      ]
     },
     "metadata": {
      "tags": []
     },
     "execution_count": 9
    }
   ]
  },
  {
   "cell_type": "markdown",
   "metadata": {
    "id": "YmzlC19b7-yt"
   },
   "source": [
    "У некоторых функций бывает параметр `axis`, который позволяет применить эту функцию по разным осям - в данном случае, по строкам или столбцам:"
   ]
  },
  {
   "cell_type": "code",
   "metadata": {
    "id": "m8c0jQr97-yt",
    "outputId": "fbacfeec-2b7b-4427-9f4a-bad1d2dc48b6",
    "colab": {
     "base_uri": "https://localhost:8080/"
    }
   },
   "source": [
    "np.sum(vec)"
   ],
   "execution_count": 10,
   "outputs": [
    {
     "output_type": "execute_result",
     "data": {
      "text/plain": [
       "21"
      ]
     },
     "metadata": {
      "tags": []
     },
     "execution_count": 10
    }
   ]
  },
  {
   "cell_type": "code",
   "metadata": {
    "id": "ldw4QRrG7-yt",
    "outputId": "93694c16-e3b4-49d1-b174-b89d1c1edb9f",
    "colab": {
     "base_uri": "https://localhost:8080/"
    }
   },
   "source": [
    "np.sum(vec, axis=0)"
   ],
   "execution_count": 11,
   "outputs": [
    {
     "output_type": "execute_result",
     "data": {
      "text/plain": [
       "array([ 9, 12])"
      ]
     },
     "metadata": {
      "tags": []
     },
     "execution_count": 11
    }
   ]
  },
  {
   "cell_type": "code",
   "metadata": {
    "id": "2ryuF-u97-yu",
    "outputId": "45f4605d-e049-4e2b-fe8c-ce9e3cb70c67",
    "colab": {
     "base_uri": "https://localhost:8080/"
    }
   },
   "source": [
    "np.sum(vec, axis=1)"
   ],
   "execution_count": 12,
   "outputs": [
    {
     "output_type": "execute_result",
     "data": {
      "text/plain": [
       "array([ 3,  7, 11])"
      ]
     },
     "metadata": {
      "tags": []
     },
     "execution_count": 12
    }
   ]
  },
  {
   "cell_type": "code",
   "metadata": {
    "id": "3RibLKQu7-yu",
    "outputId": "7774b2a6-699c-41ef-b68d-d345ddfa10cd",
    "colab": {
     "base_uri": "https://localhost:8080/"
    }
   },
   "source": [
    "vec.sum()"
   ],
   "execution_count": 13,
   "outputs": [
    {
     "output_type": "execute_result",
     "data": {
      "text/plain": [
       "21"
      ]
     },
     "metadata": {
      "tags": []
     },
     "execution_count": 13
    }
   ]
  },
  {
   "cell_type": "markdown",
   "metadata": {
    "id": "bKUswd0c7-yu"
   },
   "source": [
    "Транспонируем массив:"
   ]
  },
  {
   "cell_type": "code",
   "metadata": {
    "id": "HZAhMqd17-yu",
    "outputId": "1bb7de70-aa99-484f-eda6-f45ad76703d0",
    "colab": {
     "base_uri": "https://localhost:8080/"
    }
   },
   "source": [
    "vec.T"
   ],
   "execution_count": 14,
   "outputs": [
    {
     "output_type": "execute_result",
     "data": {
      "text/plain": [
       "array([[1, 3, 5],\n",
       "       [2, 4, 6]])"
      ]
     },
     "metadata": {
      "tags": []
     },
     "execution_count": 14
    }
   ]
  },
  {
   "cell_type": "code",
   "metadata": {
    "id": "LCShOYJh7-yu",
    "outputId": "82f8b0d9-bed4-4266-ee47-143cbcec20c1",
    "colab": {
     "base_uri": "https://localhost:8080/"
    }
   },
   "source": [
    "vec.transpose()"
   ],
   "execution_count": 15,
   "outputs": [
    {
     "output_type": "execute_result",
     "data": {
      "text/plain": [
       "array([[1, 3, 5],\n",
       "       [2, 4, 6]])"
      ]
     },
     "metadata": {
      "tags": []
     },
     "execution_count": 15
    }
   ]
  },
  {
   "cell_type": "markdown",
   "metadata": {
    "id": "VgI5MnaD7-yv"
   },
   "source": [
    "Обратите внимание, что переменная `vec` не поменялась!"
   ]
  },
  {
   "cell_type": "code",
   "metadata": {
    "id": "18xC2EHI7-yv",
    "outputId": "914a170b-d403-41e3-deef-51f6c347e82a",
    "colab": {
     "base_uri": "https://localhost:8080/"
    }
   },
   "source": [
    "vec"
   ],
   "execution_count": 69,
   "outputs": [
    {
     "output_type": "execute_result",
     "data": {
      "text/plain": [
       "array([[1, 2],\n",
       "       [3, 4],\n",
       "       [5, 6]])"
      ]
     },
     "metadata": {
      "tags": []
     },
     "execution_count": 69
    }
   ]
  },
  {
   "cell_type": "markdown",
   "metadata": {
    "id": "Q-0fVDhF7-yv"
   },
   "source": [
    "Размеры массивов можно менять:"
   ]
  },
  {
   "cell_type": "code",
   "metadata": {
    "id": "j1b8plR57-yv",
    "outputId": "35da40cc-059a-4d16-86a8-93daa73f708e",
    "colab": {
     "base_uri": "https://localhost:8080/"
    }
   },
   "source": [
    "vec.reshape(2, 3)"
   ],
   "execution_count": 17,
   "outputs": [
    {
     "output_type": "execute_result",
     "data": {
      "text/plain": [
       "array([[1, 2, 3],\n",
       "       [4, 5, 6]])"
      ]
     },
     "metadata": {
      "tags": []
     },
     "execution_count": 17
    }
   ]
  },
  {
   "cell_type": "code",
   "metadata": {
    "id": "1scsJdTo7-yv",
    "outputId": "79396760-726e-417d-8cab-9f27b252f61c",
    "colab": {
     "base_uri": "https://localhost:8080/"
    }
   },
   "source": [
    "vec.reshape(-1, 3)"
   ],
   "execution_count": 18,
   "outputs": [
    {
     "output_type": "execute_result",
     "data": {
      "text/plain": [
       "array([[1, 2, 3],\n",
       "       [4, 5, 6]])"
      ]
     },
     "metadata": {
      "tags": []
     },
     "execution_count": 18
    }
   ]
  },
  {
   "cell_type": "code",
   "metadata": {
    "id": "GkL6nNLr7-yw",
    "outputId": "4f856d75-1804-4514-cce9-3c982a480b1d",
    "colab": {
     "base_uri": "https://localhost:8080/"
    }
   },
   "source": [
    "vec.reshape(1, -1)\n",
    "vec"
   ],
   "execution_count": 75,
   "outputs": [
    {
     "output_type": "execute_result",
     "data": {
      "text/plain": [
       "array([[1, 2],\n",
       "       [3, 4],\n",
       "       [5, 6]])"
      ]
     },
     "metadata": {
      "tags": []
     },
     "execution_count": 75
    }
   ]
  },
  {
   "cell_type": "markdown",
   "metadata": {
    "id": "qsx4Oz4V7-yw"
   },
   "source": [
    "Индексирование:"
   ]
  },
  {
   "cell_type": "code",
   "metadata": {
    "id": "2hTcGYbK7-yw",
    "outputId": "c0fee5dd-df72-4d32-94c1-8057e970bfb5",
    "colab": {
     "base_uri": "https://localhost:8080/"
    }
   },
   "source": [
    "vec[:, 1]"
   ],
   "execution_count": 78,
   "outputs": [
    {
     "output_type": "execute_result",
     "data": {
      "text/plain": [
       "array([2, 4, 6])"
      ]
     },
     "metadata": {
      "tags": []
     },
     "execution_count": 78
    }
   ]
  },
  {
   "cell_type": "code",
   "metadata": {
    "id": "nE8Gi4Wr7-yw",
    "outputId": "4623a471-8ec8-40b8-ed12-61477f60f9d9",
    "colab": {
     "base_uri": "https://localhost:8080/"
    }
   },
   "source": [
    "vec[2, :]"
   ],
   "execution_count": 81,
   "outputs": [
    {
     "output_type": "execute_result",
     "data": {
      "text/plain": [
       "array([5, 6])"
      ]
     },
     "metadata": {
      "tags": []
     },
     "execution_count": 81
    }
   ]
  },
  {
   "cell_type": "code",
   "metadata": {
    "id": "-NJ_zSoi7-yw",
    "outputId": "956af0c7-0084-4cec-ae0d-c2623406c70b",
    "colab": {
     "base_uri": "https://localhost:8080/"
    }
   },
   "source": [
    "vec[1:2, 0]"
   ],
   "execution_count": 88,
   "outputs": [
    {
     "output_type": "execute_result",
     "data": {
      "text/plain": [
       "array([3])"
      ]
     },
     "metadata": {
      "tags": []
     },
     "execution_count": 88
    }
   ]
  },
  {
   "cell_type": "code",
   "metadata": {
    "id": "pl0RIFmU7-yx",
    "outputId": "bd062c41-51ba-4aa9-bf60-178dad75d8ec",
    "colab": {
     "base_uri": "https://localhost:8080/"
    }
   },
   "source": [
    "vec[::2, :]"
   ],
   "execution_count": 93,
   "outputs": [
    {
     "output_type": "execute_result",
     "data": {
      "text/plain": [
       "array([[1, 2],\n",
       "       [5, 6]])"
      ]
     },
     "metadata": {
      "tags": []
     },
     "execution_count": 93
    }
   ]
  },
  {
   "cell_type": "markdown",
   "metadata": {
    "id": "eNJlZbMv7-yx"
   },
   "source": [
    "Булевы массивы:"
   ]
  },
  {
   "cell_type": "code",
   "metadata": {
    "id": "jfxRsh6B7-yx",
    "outputId": "30ad261e-3279-436e-da28-cd669dd5ddd1",
    "colab": {
     "base_uri": "https://localhost:8080/"
    }
   },
   "source": [
    "is_even = vec % 2 == 0\n",
    "print(is_even)"
   ],
   "execution_count": 98,
   "outputs": [
    {
     "output_type": "stream",
     "text": [
      "[[False  True]\n",
      " [False  True]\n",
      " [False  True]]\n"
     ],
     "name": "stdout"
    }
   ]
  },
  {
   "cell_type": "code",
   "metadata": {
    "id": "TP1mxAnH7-yx",
    "outputId": "f9f62fa3-4436-44a6-aad2-0e17fc3ab5a1",
    "colab": {
     "base_uri": "https://localhost:8080/"
    }
   },
   "source": [
    "np.sum(is_even)"
   ],
   "execution_count": 36,
   "outputs": [
    {
     "output_type": "execute_result",
     "data": {
      "text/plain": [
       "3"
      ]
     },
     "metadata": {
      "tags": []
     },
     "execution_count": 36
    }
   ]
  },
  {
   "cell_type": "markdown",
   "metadata": {
    "id": "ETYlyumH7-yx"
   },
   "source": [
    "Булевы массивы позволяют вытаскивать элементы с True из массива того-же размера"
   ]
  },
  {
   "cell_type": "code",
   "metadata": {
    "id": "httdRn4S7-yx",
    "outputId": "4c53f943-2bf9-48ac-d5f7-e42f8fc70d05",
    "colab": {
     "base_uri": "https://localhost:8080/"
    }
   },
   "source": [
    "vec[vec % 2 == 0]"
   ],
   "execution_count": 99,
   "outputs": [
    {
     "output_type": "execute_result",
     "data": {
      "text/plain": [
       "array([2, 4, 6])"
      ]
     },
     "metadata": {
      "tags": []
     },
     "execution_count": 99
    }
   ]
  },
  {
   "cell_type": "markdown",
   "metadata": {
    "id": "-4uHpAr87-yy"
   },
   "source": [
    "Иногда бывает полезно создавать специфичные массивы. Массив из нулей:"
   ]
  },
  {
   "cell_type": "code",
   "metadata": {
    "id": "EPSHOv8T7-yy",
    "outputId": "43bbd51f-d991-41c4-bd6b-3f6ab4240f5d",
    "colab": {
     "base_uri": "https://localhost:8080/"
    }
   },
   "source": [
    "np.zeros((2, 3))"
   ],
   "execution_count": 101,
   "outputs": [
    {
     "output_type": "execute_result",
     "data": {
      "text/plain": [
       "array([[0., 0., 0.],\n",
       "       [0., 0., 0.]])"
      ]
     },
     "metadata": {
      "tags": []
     },
     "execution_count": 101
    }
   ]
  },
  {
   "cell_type": "markdown",
   "metadata": {
    "id": "rO8eRf6W7-yy"
   },
   "source": [
    "Массив из единиц:"
   ]
  },
  {
   "cell_type": "code",
   "metadata": {
    "id": "aQ30KFBl7-yy",
    "outputId": "311005f1-c6a5-472d-9445-0660ca49ce56",
    "colab": {
     "base_uri": "https://localhost:8080/"
    }
   },
   "source": [
    "np.ones((3, 2))"
   ],
   "execution_count": 39,
   "outputs": [
    {
     "output_type": "execute_result",
     "data": {
      "text/plain": [
       "array([[1., 1.],\n",
       "       [1., 1.],\n",
       "       [1., 1.]])"
      ]
     },
     "metadata": {
      "tags": []
     },
     "execution_count": 39
    }
   ]
  },
  {
   "cell_type": "markdown",
   "metadata": {
    "id": "xfjNjH3z7-yy"
   },
   "source": [
    "Единичная матрица:"
   ]
  },
  {
   "cell_type": "code",
   "metadata": {
    "id": "Mj1j_J0i7-yy",
    "outputId": "1903e0e9-532b-4480-9e06-fda530d9d5e5",
    "colab": {
     "base_uri": "https://localhost:8080/"
    }
   },
   "source": [
    "np.identity(5)"
   ],
   "execution_count": 102,
   "outputs": [
    {
     "output_type": "execute_result",
     "data": {
      "text/plain": [
       "array([[1., 0., 0., 0., 0.],\n",
       "       [0., 1., 0., 0., 0.],\n",
       "       [0., 0., 1., 0., 0.],\n",
       "       [0., 0., 0., 1., 0.],\n",
       "       [0., 0., 0., 0., 1.]])"
      ]
     },
     "metadata": {
      "tags": []
     },
     "execution_count": 102
    }
   ]
  },
  {
   "cell_type": "markdown",
   "metadata": {
    "id": "RPPPPHtO7-yz"
   },
   "source": [
    "Массивы можно объединять:"
   ]
  },
  {
   "cell_type": "code",
   "metadata": {
    "id": "HgBcViGb7-yz",
    "outputId": "90111de5-c1ad-4926-f118-6c69f0557942",
    "colab": {
     "base_uri": "https://localhost:8080/"
    }
   },
   "source": [
    "vec"
   ],
   "execution_count": 170,
   "outputs": [
    {
     "output_type": "execute_result",
     "data": {
      "text/plain": [
       "array([[1, 2],\n",
       "       [3, 4],\n",
       "       [5, 6]])"
      ]
     },
     "metadata": {
      "tags": []
     },
     "execution_count": 170
    }
   ]
  },
  {
   "cell_type": "code",
   "metadata": {
    "id": "lHe4euuK7-yz",
    "outputId": "49ac5229-5bfa-49a7-8361-f7c3959ef93f",
    "colab": {
     "base_uri": "https://localhost:8080/"
    }
   },
   "source": [
    "np.hstack((vec, np.zeros(vec.shape)))"
   ],
   "execution_count": 171,
   "outputs": [
    {
     "output_type": "execute_result",
     "data": {
      "text/plain": [
       "array([[1., 2., 0., 0.],\n",
       "       [3., 4., 0., 0.],\n",
       "       [5., 6., 0., 0.]])"
      ]
     },
     "metadata": {
      "tags": []
     },
     "execution_count": 171
    }
   ]
  },
  {
   "cell_type": "code",
   "metadata": {
    "id": "emtOcy0f7-yz",
    "outputId": "10828b0c-85a3-4180-b16a-3eaa70f5b4a8",
    "colab": {
     "base_uri": "https://localhost:8080/"
    }
   },
   "source": [
    "np.vstack((vec, np.zeros(vec.shape)))"
   ],
   "execution_count": 172,
   "outputs": [
    {
     "output_type": "execute_result",
     "data": {
      "text/plain": [
       "array([[1., 2.],\n",
       "       [3., 4.],\n",
       "       [5., 6.],\n",
       "       [0., 0.],\n",
       "       [0., 0.],\n",
       "       [0., 0.]])"
      ]
     },
     "metadata": {
      "tags": []
     },
     "execution_count": 172
    }
   ]
  },
  {
   "cell_type": "markdown",
   "metadata": {
    "id": "vahTh3Sn7-yz"
   },
   "source": [
    "И, наконец - арифметические операции!"
   ]
  },
  {
   "cell_type": "code",
   "metadata": {
    "id": "glfNhIaI7-y0",
    "outputId": "6b96e502-f6e0-465c-d2a1-743c0888cdd4",
    "colab": {
     "base_uri": "https://localhost:8080/"
    }
   },
   "source": [
    "vec + 1"
   ],
   "execution_count": 173,
   "outputs": [
    {
     "output_type": "execute_result",
     "data": {
      "text/plain": [
       "array([[2, 3],\n",
       "       [4, 5],\n",
       "       [6, 7]])"
      ]
     },
     "metadata": {
      "tags": []
     },
     "execution_count": 173
    }
   ]
  },
  {
   "cell_type": "code",
   "metadata": {
    "id": "QqtSJ51s7-y0",
    "outputId": "74b300e8-c53b-4896-a373-b84790a612de",
    "colab": {
     "base_uri": "https://localhost:8080/"
    }
   },
   "source": [
    "vec * 2"
   ],
   "execution_count": 104,
   "outputs": [
    {
     "output_type": "execute_result",
     "data": {
      "text/plain": [
       "array([[ 2,  4],\n",
       "       [ 6,  8],\n",
       "       [10, 12]])"
      ]
     },
     "metadata": {
      "tags": []
     },
     "execution_count": 104
    }
   ]
  },
  {
   "cell_type": "code",
   "metadata": {
    "id": "-oCUFPHF7-y0",
    "outputId": "fc3dd259-6532-403d-c409-b94788ddb73b",
    "colab": {
     "base_uri": "https://localhost:8080/"
    }
   },
   "source": [
    "vec ** 2"
   ],
   "execution_count": 112,
   "outputs": [
    {
     "output_type": "execute_result",
     "data": {
      "text/plain": [
       "array([[ 1.,  4.],\n",
       "       [ 9., 16.],\n",
       "       [25., 36.]])"
      ]
     },
     "metadata": {
      "tags": []
     },
     "execution_count": 112
    }
   ]
  },
  {
   "cell_type": "code",
   "metadata": {
    "id": "GayHKKEa7-y0",
    "outputId": "6c848a1f-c62c-41c8-e56e-989a59025984",
    "colab": {
     "base_uri": "https://localhost:8080/"
    }
   },
   "source": [
    "vec + vec ** 2"
   ],
   "execution_count": 48,
   "outputs": [
    {
     "output_type": "execute_result",
     "data": {
      "text/plain": [
       "array([[ 2,  6],\n",
       "       [12, 20],\n",
       "       [30, 42]])"
      ]
     },
     "metadata": {
      "tags": []
     },
     "execution_count": 48
    }
   ]
  },
  {
   "cell_type": "code",
   "metadata": {
    "id": "4SBQ4XWT7-y1",
    "outputId": "87c87495-963b-4467-cca6-c5fb25f63b41",
    "colab": {
     "base_uri": "https://localhost:8080/"
    }
   },
   "source": [
    "vec * vec ** 3"
   ],
   "execution_count": 108,
   "outputs": [
    {
     "output_type": "execute_result",
     "data": {
      "text/plain": [
       "array([[   1,   16],\n",
       "       [  81,  256],\n",
       "       [ 625, 1296]])"
      ]
     },
     "metadata": {
      "tags": []
     },
     "execution_count": 108
    }
   ]
  },
  {
   "cell_type": "code",
   "metadata": {
    "id": "orbUJ7Na7-y1",
    "outputId": "f5eaabec-6990-4e79-c4ac-7a7733285fa2",
    "colab": {
     "base_uri": "https://localhost:8080/"
    }
   },
   "source": [
    "np.sin(vec)"
   ],
   "execution_count": 50,
   "outputs": [
    {
     "output_type": "execute_result",
     "data": {
      "text/plain": [
       "array([[ 0.84147098,  0.90929743],\n",
       "       [ 0.14112001, -0.7568025 ],\n",
       "       [-0.95892427, -0.2794155 ]])"
      ]
     },
     "metadata": {
      "tags": []
     },
     "execution_count": 50
    }
   ]
  },
  {
   "cell_type": "markdown",
   "metadata": {
    "id": "tztnHU3q7-y2"
   },
   "source": [
    "Матричное умножение:"
   ]
  },
  {
   "cell_type": "code",
   "metadata": {
    "id": "cpTJWzeX7-y2",
    "outputId": "1f8ffbf9-2005-4aa4-87a9-16471042545d",
    "colab": {
     "base_uri": "https://localhost:8080/",
     "height": 162
    }
   },
   "source": [
    "vec.dot(vec)"
   ],
   "execution_count": 174,
   "outputs": [
    {
     "output_type": "error",
     "ename": "ValueError",
     "evalue": "ignored",
     "traceback": [
      "\u001B[1;31m---------------------------------------------------------------------------\u001B[0m",
      "\u001B[1;31mValueError\u001B[0m                                Traceback (most recent call last)",
      "\u001B[1;32m<ipython-input-174-64c40219f993>\u001B[0m in \u001B[0;36m<module>\u001B[1;34m\u001B[0m\n\u001B[1;32m----> 1\u001B[1;33m \u001B[0mvec\u001B[0m\u001B[1;33m.\u001B[0m\u001B[0mdot\u001B[0m\u001B[1;33m(\u001B[0m\u001B[0mvec\u001B[0m\u001B[1;33m)\u001B[0m\u001B[1;33m\u001B[0m\u001B[1;33m\u001B[0m\u001B[0m\n\u001B[0m",
      "\u001B[1;31mValueError\u001B[0m: shapes (3,2) and (3,2) not aligned: 2 (dim 1) != 3 (dim 0)"
     ]
    }
   ]
  },
  {
   "cell_type": "code",
   "metadata": {
    "id": "OyCjI5jXZe79",
    "outputId": "750e4e21-2d72-4b75-f9a9-533dca305845",
    "colab": {
     "base_uri": "https://localhost:8080/"
    }
   },
   "source": [
    "vec.dot(vec.T)"
   ],
   "execution_count": 175,
   "outputs": [
    {
     "output_type": "execute_result",
     "data": {
      "text/plain": [
       "array([[ 5, 11, 17],\n",
       "       [11, 25, 39],\n",
       "       [17, 39, 61]])"
      ]
     },
     "metadata": {
      "tags": []
     },
     "execution_count": 175
    }
   ]
  },
  {
   "cell_type": "code",
   "metadata": {
    "id": "R5BtogAe7-y2",
    "outputId": "4eaebe6f-321e-4733-8efd-3788a4430360",
    "colab": {
     "base_uri": "https://localhost:8080/"
    }
   },
   "source": [
    "vec.dot((vec ** 2).T)"
   ],
   "execution_count": 121,
   "outputs": [
    {
     "output_type": "execute_result",
     "data": {
      "text/plain": [
       "array([[  9,  41,  97],\n",
       "       [ 19,  91, 219],\n",
       "       [ 29, 141, 341]])"
      ]
     },
     "metadata": {
      "tags": []
     },
     "execution_count": 121
    }
   ]
  },
  {
   "cell_type": "code",
   "metadata": {
    "id": "7yDhLX4Z7-y2",
    "outputId": "f350cefc-1069-4ecb-f6f5-7388afe3ab72",
    "colab": {
     "base_uri": "https://localhost:8080/"
    }
   },
   "source": [
    "vec @ (vec ** 2).T"
   ],
   "execution_count": 55,
   "outputs": [
    {
     "output_type": "execute_result",
     "data": {
      "text/plain": [
       "array([[  9,  41,  97],\n",
       "       [ 19,  91, 219],\n",
       "       [ 29, 141, 341]])"
      ]
     },
     "metadata": {
      "tags": []
     },
     "execution_count": 55
    }
   ]
  },
  {
   "cell_type": "markdown",
   "metadata": {
    "id": "aUCHQnPp7-y3"
   },
   "source": [
    "Broadcasting:\n",
    "https://docs.scipy.org/doc/numpy-1.15.0/user/basics.broadcasting.html"
   ]
  },
  {
   "cell_type": "code",
   "metadata": {
    "id": "KwRPdNLC7-y3",
    "outputId": "2c2fbdf7-c481-4944-cc23-02745393fa72",
    "colab": {
     "base_uri": "https://localhost:8080/"
    }
   },
   "source": [
    "vec"
   ],
   "execution_count": 56,
   "outputs": [
    {
     "output_type": "execute_result",
     "data": {
      "text/plain": [
       "array([[1, 2],\n",
       "       [3, 4],\n",
       "       [5, 6]])"
      ]
     },
     "metadata": {
      "tags": []
     },
     "execution_count": 56
    }
   ]
  },
  {
   "cell_type": "code",
   "metadata": {
    "id": "G6ciNKoM7-y3",
    "outputId": "8aed2a23-b303-4f50-e14e-9c2432f534b7",
    "colab": {
     "base_uri": "https://localhost:8080/"
    }
   },
   "source": [
    "np.arange(3).reshape(3, 1)"
   ],
   "execution_count": 127,
   "outputs": [
    {
     "output_type": "execute_result",
     "data": {
      "text/plain": [
       "array([[0],\n",
       "       [1],\n",
       "       [2]])"
      ]
     },
     "metadata": {
      "tags": []
     },
     "execution_count": 127
    }
   ]
  },
  {
   "cell_type": "code",
   "metadata": {
    "id": "cZVUe6sb7-y3",
    "outputId": "6dcf513c-42b8-4c3e-d51c-6bcd37c48e47",
    "colab": {
     "base_uri": "https://localhost:8080/"
    }
   },
   "source": [
    "vec + np.arange(3).reshape(3, 1)"
   ],
   "execution_count": 58,
   "outputs": [
    {
     "output_type": "execute_result",
     "data": {
      "text/plain": [
       "array([[1, 2],\n",
       "       [4, 5],\n",
       "       [7, 8]])"
      ]
     },
     "metadata": {
      "tags": []
     },
     "execution_count": 58
    }
   ]
  },
  {
   "cell_type": "markdown",
   "metadata": {
    "id": "QA2yOm7o7-y3"
   },
   "source": [
    "Генерация случайных чисел:"
   ]
  },
  {
   "cell_type": "code",
   "metadata": {
    "id": "yeIavPV07-y3",
    "outputId": "150cd04f-1479-49d0-c70c-dda8b0809f7a",
    "colab": {
     "base_uri": "https://localhost:8080/"
    }
   },
   "source": [
    "np.random.rand(2, 3)"
   ],
   "execution_count": 128,
   "outputs": [
    {
     "output_type": "execute_result",
     "data": {
      "text/plain": [
       "array([[0.00422451, 0.39796618, 0.17185922],\n",
       "       [0.96079367, 0.529853  , 0.30382593]])"
      ]
     },
     "metadata": {
      "tags": []
     },
     "execution_count": 128
    }
   ]
  },
  {
   "cell_type": "code",
   "metadata": {
    "id": "oOMzXrmQ7-y4",
    "outputId": "01205f3a-97ba-49ae-e125-d3b9d464e666",
    "colab": {
     "base_uri": "https://localhost:8080/"
    }
   },
   "source": [
    "np.random.seed(2018)\n",
    "np.random.rand(2, 3)"
   ],
   "execution_count": 135,
   "outputs": [
    {
     "output_type": "execute_result",
     "data": {
      "text/plain": [
       "array([[0.88234931, 0.10432774, 0.90700933],\n",
       "       [0.3063989 , 0.44640887, 0.58998539]])"
      ]
     },
     "metadata": {
      "tags": []
     },
     "execution_count": 135
    }
   ]
  },
  {
   "cell_type": "code",
   "metadata": {
    "id": "nEGOn71GQRiU",
    "outputId": "cea83a1f-c35a-4de4-9868-7c10c0119598",
    "colab": {
     "base_uri": "https://localhost:8080/"
    }
   },
   "source": [
    "np.random.seed(2018)\n",
    "np.random.rand(2, 3)"
   ],
   "execution_count": 140,
   "outputs": [
    {
     "output_type": "execute_result",
     "data": {
      "text/plain": [
       "array([[0.88234931, 0.10432774, 0.90700933],\n",
       "       [0.3063989 , 0.44640887, 0.58998539]])"
      ]
     },
     "metadata": {
      "tags": []
     },
     "execution_count": 140
    }
   ]
  },
  {
   "cell_type": "code",
   "metadata": {
    "id": "ytXH7AL47-y4",
    "outputId": "71183c19-11ae-4605-a248-d69297331da4",
    "colab": {
     "base_uri": "https://localhost:8080/"
    }
   },
   "source": [
    "np.random.randn(3, 2)"
   ],
   "execution_count": 130,
   "outputs": [
    {
     "output_type": "execute_result",
     "data": {
      "text/plain": [
       "array([[ 0.57376143,  0.28772767],\n",
       "       [-0.23563426,  0.95349024],\n",
       "       [-1.6896253 , -0.34494271]])"
      ]
     },
     "metadata": {
      "tags": []
     },
     "execution_count": 130
    }
   ]
  },
  {
   "cell_type": "code",
   "metadata": {
    "id": "xoZXnxJ47-y4",
    "outputId": "0b0153e7-ffa8-4013-9225-eb2bce2e2fd7",
    "colab": {
     "base_uri": "https://localhost:8080/"
    }
   },
   "source": [
    "np.random.normal(2, 1, size=3)"
   ],
   "execution_count": 141,
   "outputs": [
    {
     "output_type": "execute_result",
     "data": {
      "text/plain": [
       "array([2.50227689, 2.8560293 , 1.85720992])"
      ]
     },
     "metadata": {
      "tags": []
     },
     "execution_count": 141
    }
   ]
  },
  {
   "cell_type": "code",
   "metadata": {
    "id": "uupDR9Oi7-y4",
    "outputId": "da04d5ee-9eca-4e32-9d98-af07fdf694a2",
    "colab": {
     "base_uri": "https://localhost:8080/"
    }
   },
   "source": [
    "np.random.randint(5, 10, size=3)"
   ],
   "execution_count": 142,
   "outputs": [
    {
     "output_type": "execute_result",
     "data": {
      "text/plain": [
       "array([6, 5, 7])"
      ]
     },
     "metadata": {
      "tags": []
     },
     "execution_count": 142
    }
   ]
  },
  {
   "cell_type": "markdown",
   "metadata": {
    "id": "Atgo7sau7-y4"
   },
   "source": [
    "Почему вообще используют `numpy`?"
   ]
  },
  {
   "cell_type": "code",
   "metadata": {
    "id": "E0XKIKpf7-y5"
   },
   "source": [
    "n = 300\n",
    "A = np.random.rand(n, n)\n",
    "B = np.random.rand(n, n)"
   ],
   "execution_count": 143,
   "outputs": []
  },
  {
   "cell_type": "code",
   "metadata": {
    "id": "ttGMasz97-y5",
    "outputId": "7393fde8-74a9-4de3-a896-00098a38aaf3",
    "colab": {
     "base_uri": "https://localhost:8080/"
    }
   },
   "source": [
    "%%time\n",
    "C = np.zeros((n, n))\n",
    "for i in range(n):\n",
    "    for j in range(n):\n",
    "        for k in range(n):\n",
    "            C[i, j] += A[i, k] * B[k, j]"
   ],
   "execution_count": 148,
   "outputs": [
    {
     "output_type": "stream",
     "text": [
      "Wall time: 40.2 s\n"
     ],
     "name": "stdout"
    }
   ]
  },
  {
   "cell_type": "code",
   "metadata": {
    "id": "Ib35cICh7-y5",
    "outputId": "514d375d-5578-4845-c778-696c4d1bdf36",
    "colab": {
     "base_uri": "https://localhost:8080/"
    }
   },
   "source": [
    "%%time\n",
    "C = A @ B"
   ],
   "execution_count": 176,
   "outputs": [
    {
     "output_type": "stream",
     "text": [
      "Wall time: 2 ms\n"
     ],
     "name": "stdout"
    }
   ]
  },
  {
   "cell_type": "code",
   "metadata": {
    "id": "gpGfkYB07-y5",
    "pycharm": {
     "name": "#%%\n"
    }
   },
   "source": [
    "from collections import defaultdict\n",
    "def checkhash(sequence, f, m):\n",
    "    d = defaultdict(lambda: 0)\n",
    "    for elem in sequence:\n",
    "        d[f(elem) % m] += 1\n",
    "    return min(d.values()), max(d.values())\n",
    "\n",
    "a = (1, 2, 3, 3)\n",
    "b = frozenset(a)\n",
    "hash(a)"
   ],
   "execution_count": null,
   "outputs": []
  },
  {
   "cell_type": "code",
   "metadata": {
    "id": "eoU8CH9W7-y6"
   },
   "source": [
    "import sys\n",
    "a = [1, 2, 3]\n",
    "b = a\n",
    "sys.getrefcount(a)\n",
    "del a\n",
    "sys.getrefcount(b)\n",
    "b"
   ],
   "execution_count": 177,
   "outputs": []
  },
  {
   "cell_type": "code",
   "execution_count": null,
   "outputs": [],
   "source": [
    "import sys\n",
    "\n",
    "foo = []\n",
    "\n",
    "print(sys.getrefcount(foo))\n",
    "\n",
    "def bar(a):\n",
    "    print(sys.getrefcount(a))\n",
    "\n",
    "bar(foo)\n",
    "print(sys.getrefcount(foo))"
   ],
   "metadata": {
    "collapsed": false,
    "pycharm": {
     "name": "#%%\n"
    }
   }
  },
  {
   "cell_type": "code",
   "execution_count": null,
   "outputs": [],
   "source": [
    "import gc\n",
    "import ctypes\n",
    "\n",
    "# We use ctypes moule  to access our unreachable objects by memory address.\n",
    "class PyObject(ctypes.Structure):\n",
    "    _fields_ = [(\"refcnt\", ctypes.c_long)]\n",
    "\n",
    "\n",
    "gc.disable()\n",
    "\n",
    "lst = [1, 2, 3]\n",
    "lst.append(lst)\n",
    "\n",
    "lst_address = id(lst)\n",
    "\n",
    "del lst\n",
    "\n",
    "object_1 = {}\n",
    "object_2 = {}\n",
    "object_1['obj2'] = object_2\n",
    "object_2['obj1'] = object_1\n",
    "\n",
    "obj_address = id(object_1)\n",
    "\n",
    "del object_1, object_2\n",
    "\n",
    "gc.collect()\n",
    "\n",
    "# Check the reference count\n",
    "print(PyObject.from_address(obj_address).refcnt)\n",
    "print(PyObject.from_address(lst_address).refcnt)"
   ],
   "metadata": {
    "collapsed": false,
    "pycharm": {
     "name": "#%%\n"
    }
   }
  },
  {
   "cell_type": "markdown",
   "source": [
    "https://storage.googleapis.com/coderzcolumn/static/blogs/python/mark-and-sweep.gif"
   ],
   "metadata": {
    "collapsed": false
   }
  },
  {
   "cell_type": "code",
   "execution_count": null,
   "outputs": [],
   "source": [
    "import weakref\n",
    "import gc\n",
    "\n",
    "class MyObject(object):\n",
    "    def my_method(self):\n",
    "        print('my_method was called!')\n",
    "\n",
    "obj = MyObject()\n",
    "r = weakref.ref(obj)\n",
    "print(sys.getrefcount(obj))\n",
    "\n",
    "gc.collect()\n",
    "assert r() is obj\n",
    "\n",
    "obj = 1\n",
    "gc.collect()\n",
    "assert r() is None"
   ],
   "metadata": {
    "collapsed": false,
    "pycharm": {
     "name": "#%%\n"
    }
   }
  },
  {
   "cell_type": "code",
   "execution_count": null,
   "outputs": [],
   "source": [
    "from threading import Thread"
   ],
   "metadata": {
    "collapsed": false,
    "pycharm": {
     "name": "#%%\n"
    }
   }
  },
  {
   "cell_type": "code",
   "execution_count": null,
   "outputs": [],
   "source": [
    "def countdown(n):\n",
    "    while n > 0:\n",
    "        n -= 1"
   ],
   "metadata": {
    "collapsed": false,
    "pycharm": {
     "name": "#%%\n"
    }
   }
  },
  {
   "cell_type": "code",
   "execution_count": null,
   "outputs": [],
   "source": [
    "count = 50000000"
   ],
   "metadata": {
    "collapsed": false,
    "pycharm": {
     "name": "#%%\n"
    }
   }
  },
  {
   "cell_type": "code",
   "execution_count": null,
   "outputs": [],
   "source": [
    "import time"
   ],
   "metadata": {
    "collapsed": false,
    "pycharm": {
     "name": "#%%\n"
    }
   }
  },
  {
   "cell_type": "code",
   "execution_count": null,
   "outputs": [],
   "source": [
    "%%time\n",
    "start = time.time()\n",
    "countdown(count)\n",
    "print(time.time() - start)"
   ],
   "metadata": {
    "collapsed": false,
    "pycharm": {
     "name": "#%%\n"
    }
   }
  },
  {
   "cell_type": "code",
   "execution_count": null,
   "outputs": [],
   "source": [
    "  %%time\n",
    "t1 = Thread(target=countdown, args=(count//2,))\n",
    "t2 = Thread(target=countdown, args=(count//2,))\n",
    "start = time.time()\n",
    "t1.start()\n",
    "t2.start()\n",
    "t1.join()\n",
    "t2.join()\n",
    "print(time.time() - start)"
   ],
   "metadata": {
    "collapsed": false,
    "pycharm": {
     "name": "#%%\n"
    }
   }
  }
 ]
}